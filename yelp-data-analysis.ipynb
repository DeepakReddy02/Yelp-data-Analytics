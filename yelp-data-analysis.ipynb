{
 "cells": [
  {
   "cell_type": "markdown",
   "id": "21e024a2",
   "metadata": {
    "papermill": {
     "duration": 0.008908,
     "end_time": "2025-07-14T18:57:02.907381",
     "exception": false,
     "start_time": "2025-07-14T18:57:02.898473",
     "status": "completed"
    },
    "tags": []
   },
   "source": [
    "# **Yelp Data analytics**\n",
    "\n",
    "I did a comprehensive analysis on  Yelp dataset containing thousands of businesses across the United States, focusing on three key service categories: \"Delivery\",\"Plumbing\", and \"Air Conditioning & Heating\".Using PySpark for scalable data processing, I cleaned and standardized the dataset, tackling challenges like Duplicate and missing values.Did some EDA as well to see how the data is distributed\n",
    "\n",
    "\n",
    "I discovered intriguing regional variations—certain states consistently outperformed others in service quality, while some cities showed surprising gaps between customer demand and satisfaction levels. The correlation between review volume and ratings revealed interesting customer behavior patterns that challenge conventional wisdom.\n",
    "\n",
    "This project showcases how big data analytics can transform business decision-making, turning scattered customer feedback into actionable market intelligence. The insights range from identifying high-performing business models to revealing untapped market potential across America's diverse economic landscape"
   ]
  },
  {
   "cell_type": "code",
   "execution_count": 1,
   "id": "4f052379",
   "metadata": {
    "execution": {
     "iopub.execute_input": "2025-07-14T18:57:02.925395Z",
     "iopub.status.busy": "2025-07-14T18:57:02.924637Z",
     "iopub.status.idle": "2025-07-14T18:57:10.855593Z",
     "shell.execute_reply": "2025-07-14T18:57:10.854515Z"
    },
    "papermill": {
     "duration": 7.941433,
     "end_time": "2025-07-14T18:57:10.857452",
     "exception": false,
     "start_time": "2025-07-14T18:57:02.916019",
     "status": "completed"
    },
    "tags": []
   },
   "outputs": [
    {
     "name": "stderr",
     "output_type": "stream",
     "text": [
      "Setting default log level to \"WARN\".\n",
      "To adjust logging level use sc.setLogLevel(newLevel). For SparkR, use setLogLevel(newLevel).\n",
      "25/07/14 18:57:08 WARN NativeCodeLoader: Unable to load native-hadoop library for your platform... using builtin-java classes where applicable\n"
     ]
    }
   ],
   "source": [
    "# initializing spark session\n",
    "from pyspark.sql import SparkSession\n",
    "spark = SparkSession \\\n",
    "    .builder \\\n",
    "    .appName(\"Yelp analysis\") \\\n",
    "    .master(\"local[*]\") \\\n",
    "    .getOrCreate()"
   ]
  },
  {
   "cell_type": "code",
   "execution_count": 2,
   "id": "712601ff",
   "metadata": {
    "execution": {
     "iopub.execute_input": "2025-07-14T18:57:10.877726Z",
     "iopub.status.busy": "2025-07-14T18:57:10.877143Z",
     "iopub.status.idle": "2025-07-14T18:57:22.306733Z",
     "shell.execute_reply": "2025-07-14T18:57:22.305754Z"
    },
    "papermill": {
     "duration": 11.443046,
     "end_time": "2025-07-14T18:57:22.308503",
     "exception": false,
     "start_time": "2025-07-14T18:57:10.865457",
     "status": "completed"
    },
    "tags": []
   },
   "outputs": [
    {
     "name": "stderr",
     "output_type": "stream",
     "text": [
      "                                                                                                    \r"
     ]
    }
   ],
   "source": [
    "DF = spark.read.format(\"csv\").option(\"header\", True).option(\"inferSchema\", True).load(\"/kaggle/input/yelp-dataset-contains-1-million-rows/yelp_database.csv\")"
   ]
  },
  {
   "cell_type": "markdown",
   "id": "bfabbd53",
   "metadata": {
    "papermill": {
     "duration": 0.009205,
     "end_time": "2025-07-14T18:57:22.327611",
     "exception": false,
     "start_time": "2025-07-14T18:57:22.318406",
     "status": "completed"
    },
    "tags": []
   },
   "source": [
    "**Selecting only columns in Needed**"
   ]
  },
  {
   "cell_type": "code",
   "execution_count": 3,
   "id": "9cfd6c41",
   "metadata": {
    "execution": {
     "iopub.execute_input": "2025-07-14T18:57:22.346886Z",
     "iopub.status.busy": "2025-07-14T18:57:22.346536Z",
     "iopub.status.idle": "2025-07-14T18:57:22.415736Z",
     "shell.execute_reply": "2025-07-14T18:57:22.414629Z"
    },
    "papermill": {
     "duration": 0.081348,
     "end_time": "2025-07-14T18:57:22.418391",
     "exception": false,
     "start_time": "2025-07-14T18:57:22.337043",
     "status": "completed"
    },
    "tags": []
   },
   "outputs": [],
   "source": [
    "df = DF.select(['ID','Phone','Organization','OLF','Rating','NumberReview','Category','Country','State','City'])"
   ]
  },
  {
   "cell_type": "markdown",
   "id": "4c7ee7dc",
   "metadata": {
    "papermill": {
     "duration": 0.008193,
     "end_time": "2025-07-14T18:57:22.440204",
     "exception": false,
     "start_time": "2025-07-14T18:57:22.432011",
     "status": "completed"
    },
    "tags": []
   },
   "source": [
    "# Exploratory Data analysis"
   ]
  },
  {
   "cell_type": "code",
   "execution_count": 4,
   "id": "59857c3b",
   "metadata": {
    "execution": {
     "iopub.execute_input": "2025-07-14T18:57:22.458391Z",
     "iopub.status.busy": "2025-07-14T18:57:22.457301Z",
     "iopub.status.idle": "2025-07-14T18:57:22.466451Z",
     "shell.execute_reply": "2025-07-14T18:57:22.465536Z"
    },
    "papermill": {
     "duration": 0.019903,
     "end_time": "2025-07-14T18:57:22.468089",
     "exception": false,
     "start_time": "2025-07-14T18:57:22.448186",
     "status": "completed"
    },
    "tags": []
   },
   "outputs": [
    {
     "name": "stdout",
     "output_type": "stream",
     "text": [
      "root\n",
      " |-- ID: integer (nullable = true)\n",
      " |-- Phone: string (nullable = true)\n",
      " |-- Organization: string (nullable = true)\n",
      " |-- OLF: string (nullable = true)\n",
      " |-- Rating: double (nullable = true)\n",
      " |-- NumberReview: integer (nullable = true)\n",
      " |-- Category: string (nullable = true)\n",
      " |-- Country: string (nullable = true)\n",
      " |-- State: string (nullable = true)\n",
      " |-- City: string (nullable = true)\n",
      "\n"
     ]
    }
   ],
   "source": [
    "df.printSchema()"
   ]
  },
  {
   "cell_type": "code",
   "execution_count": 5,
   "id": "41d30ea0",
   "metadata": {
    "execution": {
     "iopub.execute_input": "2025-07-14T18:57:22.487073Z",
     "iopub.status.busy": "2025-07-14T18:57:22.486061Z",
     "iopub.status.idle": "2025-07-14T18:57:38.428816Z",
     "shell.execute_reply": "2025-07-14T18:57:38.428052Z"
    },
    "papermill": {
     "duration": 15.955098,
     "end_time": "2025-07-14T18:57:38.431608",
     "exception": false,
     "start_time": "2025-07-14T18:57:22.476510",
     "status": "completed"
    },
    "tags": []
   },
   "outputs": [
    {
     "name": "stderr",
     "output_type": "stream",
     "text": [
      "25/07/14 18:57:23 WARN SparkStringUtils: Truncated the string representation of a plan since it was too large. This behavior can be adjusted by setting 'spark.sql.debug.maxToStringFields'.\n",
      "[Stage 2:===========================================================>                   (3 + 1) / 4]\r"
     ]
    },
    {
     "name": "stdout",
     "output_type": "stream",
     "text": [
      "-RECORD 0-------------------------------\n",
      " summary      | count                   \n",
      " ID           | 1000000                 \n",
      " Phone        | 1000000                 \n",
      " Organization | 999531                  \n",
      " OLF          | 38110                   \n",
      " Rating       | 1000000                 \n",
      " NumberReview | 1000000                 \n",
      " Category     | 1000000                 \n",
      " Country      | 1000000                 \n",
      " State        | 998942                  \n",
      " City         | 999531                  \n",
      "-RECORD 1-------------------------------\n",
      " summary      | mean                    \n",
      " ID           | 500000.5                \n",
      " Phone        | 1.603186562275147...    \n",
      " Organization | 867.0540540540541       \n",
      " OLF          | NULL                    \n",
      " Rating       | 2.784374                \n",
      " NumberReview | 56.685617               \n",
      " Category     | NULL                    \n",
      " Country      | NULL                    \n",
      " State        | 35.333333333333336      \n",
      " City         | NULL                    \n",
      "-RECORD 2-------------------------------\n",
      " summary      | stddev                  \n",
      " ID           | 288675.2789323441       \n",
      " Phone        | 5.712388086941457E9     \n",
      " Organization | 849.4739858009499       \n",
      " OLF          | NULL                    \n",
      " Rating       | 1.9142599333724657      \n",
      " NumberReview | 185.57119429749298      \n",
      " Category     | NULL                    \n",
      " Country      | NULL                    \n",
      " State        | 21.939310229205777      \n",
      " City         | NULL                    \n",
      "-RECORD 3-------------------------------\n",
      " summary      | min                     \n",
      " ID           | 1                       \n",
      " Phone        | 1.01163E+11             \n",
      " Organization | # 1 Wok                 \n",
      " OLF          | ALLC                    \n",
      " Rating       | 0.0                     \n",
      " NumberReview | 0                       \n",
      " Category     | Air Conditioning ...    \n",
      " Country      | USA                     \n",
      " State        | 10                      \n",
      " City         | 1150 White Horse ...    \n",
      "-RECORD 4-------------------------------\n",
      " summary      | max                     \n",
      " ID           | 1000000                 \n",
      " Phone        | 1Workmanshipguara...    \n",
      " Organization | 尚串Meet PG火锅串串烧烤 \n",
      " OLF          | TLLC                    \n",
      " Rating       | 5.0                     \n",
      " NumberReview | 12570                   \n",
      " Category     | Plumbing                \n",
      " Country      | USA                     \n",
      " State        | YOR                     \n",
      " City         | yelm                    \n",
      "\n"
     ]
    },
    {
     "name": "stderr",
     "output_type": "stream",
     "text": [
      "                                                                                                    \r"
     ]
    }
   ],
   "source": [
    "df.describe().show(vertical=True)"
   ]
  },
  {
   "cell_type": "code",
   "execution_count": 6,
   "id": "9c52ba8b",
   "metadata": {
    "execution": {
     "iopub.execute_input": "2025-07-14T18:57:38.449606Z",
     "iopub.status.busy": "2025-07-14T18:57:38.449322Z",
     "iopub.status.idle": "2025-07-14T18:57:51.143560Z",
     "shell.execute_reply": "2025-07-14T18:57:51.141523Z"
    },
    "papermill": {
     "duration": 12.70986,
     "end_time": "2025-07-14T18:57:51.150019",
     "exception": false,
     "start_time": "2025-07-14T18:57:38.440159",
     "status": "completed"
    },
    "tags": []
   },
   "outputs": [
    {
     "name": "stderr",
     "output_type": "stream",
     "text": [
      "                                                                                                    \r"
     ]
    },
    {
     "name": "stdout",
     "output_type": "stream",
     "text": [
      "ID \t with null values:  0\n"
     ]
    },
    {
     "name": "stderr",
     "output_type": "stream",
     "text": [
      "                                                                                                    \r"
     ]
    },
    {
     "name": "stdout",
     "output_type": "stream",
     "text": [
      "Phone \t with null values:  0\n"
     ]
    },
    {
     "name": "stderr",
     "output_type": "stream",
     "text": [
      "                                                                                                    \r"
     ]
    },
    {
     "name": "stdout",
     "output_type": "stream",
     "text": [
      "Organization \t with null values:  469\n"
     ]
    },
    {
     "name": "stderr",
     "output_type": "stream",
     "text": [
      "                                                                                                    \r"
     ]
    },
    {
     "name": "stdout",
     "output_type": "stream",
     "text": [
      "OLF \t with null values:  961890\n"
     ]
    },
    {
     "name": "stderr",
     "output_type": "stream",
     "text": [
      "                                                                                                    \r"
     ]
    },
    {
     "name": "stdout",
     "output_type": "stream",
     "text": [
      "Rating \t with null values:  0\n"
     ]
    },
    {
     "name": "stderr",
     "output_type": "stream",
     "text": [
      "                                                                                                    \r"
     ]
    },
    {
     "name": "stdout",
     "output_type": "stream",
     "text": [
      "NumberReview \t with null values:  0\n"
     ]
    },
    {
     "name": "stderr",
     "output_type": "stream",
     "text": [
      "                                                                                                    \r"
     ]
    },
    {
     "name": "stdout",
     "output_type": "stream",
     "text": [
      "Category \t with null values:  0\n"
     ]
    },
    {
     "name": "stderr",
     "output_type": "stream",
     "text": [
      "                                                                                                    \r"
     ]
    },
    {
     "name": "stdout",
     "output_type": "stream",
     "text": [
      "Country \t with null values:  0\n"
     ]
    },
    {
     "name": "stderr",
     "output_type": "stream",
     "text": [
      "                                                                                                    \r"
     ]
    },
    {
     "name": "stdout",
     "output_type": "stream",
     "text": [
      "State \t with null values:  1058\n"
     ]
    },
    {
     "name": "stderr",
     "output_type": "stream",
     "text": [
      "[Stage 32:=======================================>                                      (2 + 2) / 4]\r"
     ]
    },
    {
     "name": "stdout",
     "output_type": "stream",
     "text": [
      "City \t with null values:  469\n"
     ]
    },
    {
     "name": "stderr",
     "output_type": "stream",
     "text": [
      "                                                                                                    \r"
     ]
    }
   ],
   "source": [
    "# to check the coutnof null values in each column\n",
    "for col in df.columns:\n",
    "    print(col, '\\t', 'with null values: ', df.filter(df[col].isNull()).count())"
   ]
  },
  {
   "cell_type": "markdown",
   "id": "1c2446b6",
   "metadata": {
    "papermill": {
     "duration": 0.017849,
     "end_time": "2025-07-14T18:57:51.209387",
     "exception": false,
     "start_time": "2025-07-14T18:57:51.191538",
     "status": "completed"
    },
    "tags": []
   },
   "source": [
    "# Data Cleaning"
   ]
  },
  {
   "cell_type": "code",
   "execution_count": 7,
   "id": "eb81e00b",
   "metadata": {
    "execution": {
     "iopub.execute_input": "2025-07-14T18:57:51.248095Z",
     "iopub.status.busy": "2025-07-14T18:57:51.247120Z",
     "iopub.status.idle": "2025-07-14T18:57:51.273626Z",
     "shell.execute_reply": "2025-07-14T18:57:51.272687Z"
    },
    "papermill": {
     "duration": 0.048292,
     "end_time": "2025-07-14T18:57:51.275707",
     "exception": false,
     "start_time": "2025-07-14T18:57:51.227415",
     "status": "completed"
    },
    "tags": []
   },
   "outputs": [],
   "source": [
    "'''since organization with null value does'nt make any sense,dropping null values'''\n",
    "\n",
    "df = df.na.drop(how='all',subset=['Organization'])"
   ]
  },
  {
   "cell_type": "code",
   "execution_count": 8,
   "id": "07da0837",
   "metadata": {
    "execution": {
     "iopub.execute_input": "2025-07-14T18:57:51.306448Z",
     "iopub.status.busy": "2025-07-14T18:57:51.306064Z",
     "iopub.status.idle": "2025-07-14T18:57:54.318998Z",
     "shell.execute_reply": "2025-07-14T18:57:54.318020Z"
    },
    "papermill": {
     "duration": 3.026737,
     "end_time": "2025-07-14T18:57:54.320612",
     "exception": false,
     "start_time": "2025-07-14T18:57:51.293875",
     "status": "completed"
    },
    "tags": []
   },
   "outputs": [
    {
     "name": "stderr",
     "output_type": "stream",
     "text": [
      "[Stage 35:===================>                                                          (1 + 3) / 4]\r"
     ]
    },
    {
     "name": "stdout",
     "output_type": "stream",
     "text": [
      "<bound method RDD.getNumPartitions of MapPartitionsRDD[95] at javaToPython at NativeMethodAccessorImpl.java:0>\n"
     ]
    },
    {
     "name": "stderr",
     "output_type": "stream",
     "text": [
      "[Stage 35:=======================================>                                      (2 + 2) / 4]\r"
     ]
    }
   ],
   "source": [
    "df = df.repartition(150,'State')\n",
    "print(df.rdd.getNumPartitions)"
   ]
  },
  {
   "cell_type": "code",
   "execution_count": 9,
   "id": "cf442a7e",
   "metadata": {
    "execution": {
     "iopub.execute_input": "2025-07-14T18:57:54.342653Z",
     "iopub.status.busy": "2025-07-14T18:57:54.342352Z",
     "iopub.status.idle": "2025-07-14T18:58:00.514965Z",
     "shell.execute_reply": "2025-07-14T18:58:00.514190Z"
    },
    "papermill": {
     "duration": 6.187395,
     "end_time": "2025-07-14T18:58:00.518467",
     "exception": false,
     "start_time": "2025-07-14T18:57:54.331072",
     "status": "completed"
    },
    "tags": []
   },
   "outputs": [
    {
     "name": "stderr",
     "output_type": "stream",
     "text": [
      "[Stage 38:=================================================================>        (133 + 4) / 150]\r"
     ]
    },
    {
     "name": "stdout",
     "output_type": "stream",
     "text": [
      "+--------------------+--------------------+-----+-------------------+-----------+----+-----+\n",
      "|        Organization|            Category|State|               City|      Phone| OLF|count|\n",
      "+--------------------+--------------------+-----+-------------------+-----------+----+-----+\n",
      "|          RJ Morello|            Plumbing|   MA|             Woburn|17812817545| INC|  119|\n",
      "|      Quality Deluxe|            Plumbing|   MA|           Brockton|15083152109|NULL|  100|\n",
      "|Clear Water Plumb...|            Plumbing|   RI|   North Smithfield|14019996112|NULL|   95|\n",
      "|Reliable Well & Pump|            Plumbing|   MA|          Tewksbury|19789679060|NULL|   89|\n",
      "|Cadorette Plumbin...|            Plumbing|   RI|   North Smithfield|14014803938|NULL|   89|\n",
      "|Superior Plumbing...|            Plumbing|   NY|         Ozone Park|17189258282|NULL|   81|\n",
      "|Mass State Kitche...|            Plumbing|   MA|             Bourne|15088881812|NULL|   79|\n",
      "|       Hoss Plumbing|            Plumbing|   CT|            Bethany|12034440306| LLC|   78|\n",
      "|      72F Mechanical|            Plumbing|   NY|           New York|16465987230|NULL|   77|\n",
      "|     Pespisa Company|            Plumbing|   MA|            Bedford|16175385377|NULL|   76|\n",
      "|L Richards Plumbi...|            Plumbing|   NY|Springfield Gardens|17189493567|NULL|   75|\n",
      "|David M Murphy Pl...|            Plumbing|   MA|             Lowell|19784580481|NULL|   75|\n",
      "|Hamilton Heights ...|            Plumbing|   NY|          Manhattan|12123772614|NULL|   75|\n",
      "|           PowerBees|Air Conditioning ...|   MA|            Wayland|15082768288|NULL|   75|\n",
      "|  AnbitAir Solutions|            Plumbing|   NY|           Brooklyn|18006131823|NULL|   74|\n",
      "|Frank's Plumbing ...|            Plumbing|   CT|          Stratford|12033786306|NULL|   74|\n",
      "| Harry's Contracting|            Plumbing|   NY|            Maspeth|19293506797|NULL|   74|\n",
      "|         Drain Stars|            Plumbing|   MA|             Boston|16172178437|NULL|   74|\n",
      "|Guardian Plumbing...|            Plumbing|   NJ|            Wenonah|18564649778|NULL|   74|\n",
      "|Milton Plumbing a...|            Plumbing|   NY|                Rye|19148811462|NULL|   72|\n",
      "|LaMattina's Plumb...|            Plumbing|   MA|            Danvers|17813217973|NULL|   72|\n",
      "|Marcus Garvey Plu...|            Plumbing|   NY|          Manhattan|12123772720|NULL|   72|\n",
      "|        Drain Doctor|            Plumbing|   MA|         Somerville|16176288833|NULL|   71|\n",
      "|Tinker Water Heat...|            Plumbing|   MA|             Boston|16179172121|NULL|   71|\n",
      "|     Empire Handyman|            Plumbing|   NY|         Ozone Park|13472626418|NULL|   70|\n",
      "|Medford Wellingto...|            Plumbing|   MA|          Billerica|17813965279|NULL|   70|\n",
      "|24/7 Plumbing on ...|            Plumbing|   NY|           Brooklyn|19292583341|NULL|   70|\n",
      "|Bed-Stuy Sewer Se...|            Plumbing|   NY|           Brooklyn|19292833184|NULL|   69|\n",
      "|Emergency sewer s...|            Plumbing|   NY|            Congers|18457296149|NULL|   68|\n",
      "|      Wayne's Drains|            Plumbing|   MA|         Burlington|17812723100|NULL|   67|\n",
      "|Woodfield Plumbin...|            Plumbing|   NY|     West Hempstead|15167800778|NULL|   67|\n",
      "|Vertigo Plumbing ...|            Plumbing|   NY|      East Elmhurst|17182690871|NULL|   67|\n",
      "|Middle Village Pl...|            Plumbing|   NY|             Queens|17182690934|NULL|   67|\n",
      "|4th Ave Plumbing ...|            Plumbing|   NY|           Brooklyn|17187995856|NULL|   67|\n",
      "|  All Drain Services|            Plumbing|   NH|             Hudson|18333706227|NULL|   66|\n",
      "|Aquatic Technologies|            Plumbing|   MA|            Wareham|17743050888|NULL|   66|\n",
      "|Adee Plumbing Hea...|            Plumbing|   NY|       Port Chester|19148811455|NULL|   65|\n",
      "|T&J Heating Air C...|            Plumbing|   MA|         Bellingham|15089662900| INC|   65|\n",
      "|Garden City Plumb...|            Plumbing|   NY|        Garden City|15162476917|NULL|   65|\n",
      "|Sila Heating & Ai...|            Plumbing|   MA|           Stoneham|17814384114|NULL|   65|\n",
      "|Nahal Constructio...|            Plumbing|   NY|      New Hyde Park|19174158197|NULL|   65|\n",
      "|          KE Seifert|            Plumbing|   PA|          Langhorne|12157529080|NULL|   64|\n",
      "|Stratford Plumbin...|            Plumbing|   CT|          Southbury|12033789000|NULL|   64|\n",
      "|   Werner's Plumbing|            Plumbing|   NY|          Smithtown|16314275516|NULL|   64|\n",
      "|O'Neal Plumbing a...|            Plumbing|   MA|             Norton|18887462626|NULL|   64|\n",
      "|Queens Sewer Clogged|            Plumbing|   NY|             Queens|17186734532|NULL|   64|\n",
      "|John's Sewer & Dr...|            Plumbing|   MA|             Woburn|17819950196|NULL|   64|\n",
      "|Long Island City ...|            Plumbing|   NY|             Queens|17186835534|NULL|   64|\n",
      "|  Calzini's Plumbing|            Plumbing|   MA|            Spencer|15087969397|NULL|   64|\n",
      "|Garment District ...|            Plumbing|   NY|           New York|12122931561|NULL|   63|\n",
      "|Lowe's Cleaning S...|Air Conditioning ...|   MA|             Boston|16175009855| INC|   63|\n",
      "|        Biz Plumbing|            Plumbing|   NY|           Brooklyn|19178702728|NULL|   63|\n",
      "| Pro Skills Plumbing|            Plumbing|   OK|            Choctaw|14052239001|NULL|   62|\n",
      "|   Number One Rooter|            Plumbing|   NY|           Newburgh|18454275001|NULL|   62|\n",
      "|     Drains By James|            Plumbing|   MA|         Wilmington|17819334304|NULL|   62|\n",
      "|Pure Water Plumbi...|            Plumbing|   NY|        Garden City|15162476915|NULL|   62|\n",
      "|     Buresh Plumbing|            Plumbing|   MA|            Raynham|17743605088|NULL|   62|\n",
      "|Cilento Pipeline ...|            Plumbing|   NY|          Oceanside|15167632576|NULL|   62|\n",
      "|Allen Customize C...|            Plumbing|   NY|              Bronx|16466830260|NULL|   62|\n",
      "|Franklin Plaza Pl...|            Plumbing|   NY|          Manhattan|12122931557|NULL|   62|\n",
      "|Ralph D Russo Plu...|            Plumbing|   CT|           Stamford|12033236882|NULL|   61|\n",
      "|North Ave Plumbin...|            Plumbing|   NY|       New Rochelle|19143557466|NULL|   61|\n",
      "|Winters Home Serv...|            Plumbing|   MA|          Watertown|16177765950|NULL|   61|\n",
      "|Throgs Neck Sewer...|            Plumbing|   NY|      Schuylerville|13474427023|NULL|   61|\n",
      "|Paramus Plumbing ...|            Plumbing|   NJ|            Paramus|18002133019|NULL|   61|\n",
      "|Kevin & Richard P...|            Plumbing|   NY|           Brooklyn|17182221581|NULL|   61|\n",
      "|Greco's Plumbing ...|            Plumbing|   NJ|            Paramus|12017573495|NULL|   61|\n",
      "|PP Cousin Plumbin...|            Plumbing|   NY|           Brooklyn|13474139501|NULL|   61|\n",
      "|     Rivers Plumbing|            Plumbing|   NJ|              Wayne|19738410181|NULL|   61|\n",
      "|Roberto Plumbing ...|            Plumbing|   NY|          Woodstock|18455329609|NULL|   61|\n",
      "|      Express Drains|            Plumbing|   PA|         Warminster|12154421000|NULL|   60|\n",
      "|Licensed Plumber ...|            Plumbing|   MA|             Natick|16178265650|NULL|   60|\n",
      "|Eagle Team Constr...|            Plumbing|   NY|           New York|16469695909|NULL|   60|\n",
      "|            Duct Man|Air Conditioning ...|   MA|           Randolph|17818350911|NULL|   60|\n",
      "|       Hamilton Hvac|Air Conditioning ...|   MA|          Tewksbury|19784196185|NULL|   60|\n",
      "|Hemlock Plumbing ...|            Plumbing|   NY|            Congers|18455843110|NULL|   59|\n",
      "|Mr Speedy Plumbin...|            Plumbing|   NJ| Upper Saddle River|19739070102|NULL|   59|\n",
      "|Brandano Plumbing...|            Plumbing|   MA|             Malden|17813247772|NULL|   59|\n",
      "|Perry's Plumbing ...|            Plumbing|   NY|           Bethpage|15162497473|NULL|   58|\n",
      "|Jerry Daley & Son...|            Plumbing|   MA|   North Chelmsford|19782514721|NULL|   58|\n",
      "|Church Street Plu...|            Plumbing|   NY|          Manhattan|12122931396|NULL|   58|\n",
      "|American Leak Det...|            Plumbing|   CT|        North Haven|12036917110|NULL|   57|\n",
      "|Burnside Ave Plum...|            Plumbing|   NY|              Bronx|17189242705|NULL|   57|\n",
      "|        Skawski HVAC|Air Conditioning ...|   RI|         Providence|15083725252|NULL|   57|\n",
      "|Midwood Sewer & D...|            Plumbing|   NY|           Brooklyn|19292753463|NULL|   57|\n",
      "|  HARP Home Services|            Plumbing|   CT|      Windsor Locks|18602544097|NULL|   56|\n",
      "|Elmhurst Plumbing...|            Plumbing|   NY|             Queens|17182690924|NULL|   56|\n",
      "|Interstate Hvac C...|Air Conditioning ...|   MA|           Brighton|16177829000|NULL|   56|\n",
      "|    WT Heating & A/C|Air Conditioning ...|   NY|           Flushing|17188887876|NULL|   56|\n",
      "|         Savy & Sons|            Plumbing|   CT|             Amston|18605006929|NULL|   56|\n",
      "|Schaaf Plumbing &...|            Plumbing|   NJ|         Ridgefield|12019454992|NULL|   56|\n",
      "|A Conway Plumbing...|            Plumbing|   NJ|            Oradell|12015992458|NULL|   56|\n",
      "|All American Sewe...|            Plumbing|   NJ|         Wallington|12019338200|NULL|   56|\n",
      "|IG Sewer & Drain ...|            Plumbing|   NJ|          Hawthorne|19738624484|NULL|   56|\n",
      "|Lexington Plumbin...|            Plumbing|   NY|          Manhattan|12123772650|NULL|   55|\n",
      "|Cambridge Plumbin...|            Plumbing|   MA|          Cambridge|16178685653|NULL|   55|\n",
      "|Enterprise Plumbi...|            Plumbing|   NY|             Queens|13473451304|NULL|   55|\n",
      "|  Lionheart Builders|            Plumbing|   CT|          New Haven|18609907111|NULL|   55|\n",
      "|Airco Home Comfor...|            Plumbing|   MA|          Watertown|16172937760|NULL|   55|\n",
      "|Mr Rooter Plumbin...|            Plumbing|   CT|     North Branford|12035167899|NULL|   55|\n",
      "+--------------------+--------------------+-----+-------------------+-----------+----+-----+\n",
      "only showing top 100 rows\n",
      "\n"
     ]
    },
    {
     "name": "stderr",
     "output_type": "stream",
     "text": [
      "                                                                                                    \r"
     ]
    }
   ],
   "source": [
    "from pyspark.sql.functions import when,lit,character_length,substring,col\n",
    "'''Checking for any duplicates'''\n",
    "df.groupBy(['Organization','Category','State','City','Phone','OLF'])\\\n",
    ".count()\\\n",
    ".sort(col('count').desc())\\\n",
    ".show(100)"
   ]
  },
  {
   "cell_type": "markdown",
   "id": "41f1db86",
   "metadata": {
    "papermill": {
     "duration": 0.018077,
     "end_time": "2025-07-14T18:58:00.555494",
     "exception": false,
     "start_time": "2025-07-14T18:58:00.537417",
     "status": "completed"
    },
    "tags": []
   },
   "source": [
    "Yikes there are lot of duplicates!!"
   ]
  },
  {
   "cell_type": "code",
   "execution_count": 10,
   "id": "62ab3577",
   "metadata": {
    "execution": {
     "iopub.execute_input": "2025-07-14T18:58:00.595400Z",
     "iopub.status.busy": "2025-07-14T18:58:00.594585Z",
     "iopub.status.idle": "2025-07-14T18:58:00.620816Z",
     "shell.execute_reply": "2025-07-14T18:58:00.619960Z"
    },
    "papermill": {
     "duration": 0.048091,
     "end_time": "2025-07-14T18:58:00.623062",
     "exception": false,
     "start_time": "2025-07-14T18:58:00.574971",
     "status": "completed"
    },
    "tags": []
   },
   "outputs": [],
   "source": [
    "# Organization has all number rows so filtering them\n",
    "df = df.filter(~df['Organization'].rlike('^-?\\\\d+(\\\\.\\\\d+)?$'))\n",
    "\n",
    "# Dropping all the duplicates to reduce size and get cleanier data\n",
    "df = df.dropDuplicates(['Phone','Organization','Category','State','City','OLF'])"
   ]
  },
  {
   "cell_type": "code",
   "execution_count": 11,
   "id": "8456afc8",
   "metadata": {
    "execution": {
     "iopub.execute_input": "2025-07-14T18:58:00.664301Z",
     "iopub.status.busy": "2025-07-14T18:58:00.663895Z",
     "iopub.status.idle": "2025-07-14T18:58:14.126204Z",
     "shell.execute_reply": "2025-07-14T18:58:14.121377Z"
    },
    "papermill": {
     "duration": 13.485559,
     "end_time": "2025-07-14T18:58:14.128368",
     "exception": false,
     "start_time": "2025-07-14T18:58:00.642809",
     "status": "completed"
    },
    "tags": []
   },
   "outputs": [
    {
     "name": "stderr",
     "output_type": "stream",
     "text": [
      "                                                                                                    \r"
     ]
    },
    {
     "name": "stdout",
     "output_type": "stream",
     "text": [
      "+-------+-----------------------+\n",
      "|summary|           Organization|\n",
      "+-------+-----------------------+\n",
      "|  count|                 316399|\n",
      "|   mean|                   NULL|\n",
      "| stddev|                   NULL|\n",
      "|    min|                # 1 Wok|\n",
      "|    max|尚串Meet PG火锅串串烧烤|\n",
      "+-------+-----------------------+\n",
      "\n"
     ]
    },
    {
     "name": "stderr",
     "output_type": "stream",
     "text": [
      "[Stage 47:============================================================>             (123 + 4) / 150]\r"
     ]
    },
    {
     "name": "stdout",
     "output_type": "stream",
     "text": [
      "+-------+------------------+\n",
      "|summary|             State|\n",
      "+-------+------------------+\n",
      "|  count|            316217|\n",
      "|   mean|              29.0|\n",
      "| stddev|26.870057685088806|\n",
      "|    min|                10|\n",
      "|    max|               YOR|\n",
      "+-------+------------------+\n",
      "\n"
     ]
    },
    {
     "name": "stderr",
     "output_type": "stream",
     "text": [
      "                                                                                                    \r"
     ]
    }
   ],
   "source": [
    "df.describe('Organization').show()\n",
    "df.describe('State').show()"
   ]
  },
  {
   "cell_type": "code",
   "execution_count": 12,
   "id": "e6f53873",
   "metadata": {
    "execution": {
     "iopub.execute_input": "2025-07-14T18:58:14.175406Z",
     "iopub.status.busy": "2025-07-14T18:58:14.174684Z",
     "iopub.status.idle": "2025-07-14T18:58:17.237633Z",
     "shell.execute_reply": "2025-07-14T18:58:17.236469Z"
    },
    "papermill": {
     "duration": 3.088671,
     "end_time": "2025-07-14T18:58:17.240122",
     "exception": false,
     "start_time": "2025-07-14T18:58:14.151451",
     "status": "completed"
    },
    "tags": []
   },
   "outputs": [
    {
     "name": "stderr",
     "output_type": "stream",
     "text": [
      "                                                                                                    \r"
     ]
    },
    {
     "data": {
      "text/plain": [
       "[Row(State='AZ'),\n",
       " Row(State='WV'),\n",
       " Row(State='10'),\n",
       " Row(State='XGM'),\n",
       " Row(State='ID'),\n",
       " Row(State='Jackson'),\n",
       " Row(State='Kells'),\n",
       " Row(State='NE'),\n",
       " Row(State='SD'),\n",
       " Row(State='SON'),\n",
       " Row(State='BST'),\n",
       " Row(State='DC'),\n",
       " Row(State='VT'),\n",
       " Row(State='Apple'),\n",
       " Row(State='ABE'),\n",
       " Row(State='Knighton'),\n",
       " Row(State='CHW'),\n",
       " Row(State='SWA'),\n",
       " Row(State='MO'),\n",
       " Row(State='48'),\n",
       " Row(State='BCN'),\n",
       " Row(State='ABD'),\n",
       " Row(State='STS'),\n",
       " Row(State='SCB'),\n",
       " Row(State='WOR'),\n",
       " Row(State='G'),\n",
       " Row(State='NFK'),\n",
       " Row(State='WA'),\n",
       " Row(State='CHH'),\n",
       " Row(State='BRC'),\n",
       " Row(State='Spokane'),\n",
       " Row(State=None),\n",
       " Row(State='CAM'),\n",
       " Row(State='Juárez'),\n",
       " Row(State='NSW'),\n",
       " Row(State='IN'),\n",
       " Row(State='DBY'),\n",
       " Row(State='TX'),\n",
       " Row(State='NH'),\n",
       " Row(State='KEN'),\n",
       " Row(State='SC'),\n",
       " Row(State='Minneapolis'),\n",
       " Row(State='OH'),\n",
       " Row(State='LA'),\n",
       " Row(State='Westport'),\n",
       " Row(State='MN'),\n",
       " Row(State='PTE'),\n",
       " Row(State='MT'),\n",
       " Row(State='Mexicali'),\n",
       " Row(State='FL'),\n",
       " Row(State='DE'),\n",
       " Row(State='Gray'),\n",
       " Row(State='Orange'),\n",
       " Row(State='VIC'),\n",
       " Row(State='NYK'),\n",
       " Row(State='O'),\n",
       " Row(State='AK'),\n",
       " Row(State='YOR'),\n",
       " Row(State='NGM'),\n",
       " Row(State='IL'),\n",
       " Row(State='OR'),\n",
       " Row(State='COA'),\n",
       " Row(State='ON'),\n",
       " Row(State='Gulf'),\n",
       " Row(State='ME'),\n",
       " Row(State='Sacramento'),\n",
       " Row(State='DEV'),\n",
       " Row(State='Tijuana'),\n",
       " Row(State='ND'),\n",
       " Row(State='Nashville'),\n",
       " Row(State='Montgomery'),\n",
       " Row(State='Roslyn'),\n",
       " Row(State='RI'),\n",
       " Row(State='Saint'),\n",
       " Row(State='Oldcastle'),\n",
       " Row(State='CON'),\n",
       " Row(State='Rolla'),\n",
       " Row(State='KY'),\n",
       " Row(State='WY'),\n",
       " Row(State='NLE'),\n",
       " Row(State='BC'),\n",
       " Row(State='Niagara'),\n",
       " Row(State='LCE'),\n",
       " Row(State='MI'),\n",
       " Row(State='NV'),\n",
       " Row(State='DGY'),\n",
       " Row(State='NS'),\n",
       " Row(State='XWM'),\n",
       " Row(State='TN'),\n",
       " Row(State='WI'),\n",
       " Row(State='NM'),\n",
       " Row(State='IA'),\n",
       " Row(State='DUR'),\n",
       " Row(State='GA'),\n",
       " Row(State='CA'),\n",
       " Row(State='PA'),\n",
       " Row(State='CT'),\n",
       " Row(State='NJ'),\n",
       " Row(State='MA'),\n",
       " Row(State='KS'),\n",
       " Row(State='Santa'),\n",
       " Row(State='ERY'),\n",
       " Row(State='NC'),\n",
       " Row(State='Fort'),\n",
       " Row(State='MD'),\n",
       " Row(State='CO'),\n",
       " Row(State='NTT'),\n",
       " Row(State='DOR'),\n",
       " Row(State='Enfield'),\n",
       " Row(State='NY'),\n",
       " Row(State='TAM'),\n",
       " Row(State='AR'),\n",
       " Row(State='QLD'),\n",
       " Row(State='NB'),\n",
       " Row(State='OK'),\n",
       " Row(State='DEN'),\n",
       " Row(State='XGL'),\n",
       " Row(State='VA'),\n",
       " Row(State='QC'),\n",
       " Row(State='CHE'),\n",
       " Row(State='KIR'),\n",
       " Row(State='MS'),\n",
       " Row(State='AL'),\n",
       " Row(State='UT'),\n",
       " Row(State='Denver'),\n",
       " Row(State='Tybee'),\n",
       " Row(State='Detroit'),\n",
       " Row(State='HI')]"
      ]
     },
     "execution_count": 12,
     "metadata": {},
     "output_type": "execute_result"
    }
   ],
   "source": [
    "df.select('State').distinct().collect()"
   ]
  },
  {
   "cell_type": "markdown",
   "id": "6be022cf",
   "metadata": {
    "papermill": {
     "duration": 0.01377,
     "end_time": "2025-07-14T18:58:17.334867",
     "exception": false,
     "start_time": "2025-07-14T18:58:17.321097",
     "status": "completed"
    },
    "tags": []
   },
   "source": [
    "'State' column values have differing lengths and is of only number fixing those and droping columns which have null values"
   ]
  },
  {
   "cell_type": "code",
   "execution_count": 13,
   "id": "f3ef1b6e",
   "metadata": {
    "execution": {
     "iopub.execute_input": "2025-07-14T18:58:17.361734Z",
     "iopub.status.busy": "2025-07-14T18:58:17.361415Z",
     "iopub.status.idle": "2025-07-14T18:58:17.420420Z",
     "shell.execute_reply": "2025-07-14T18:58:17.419157Z"
    },
    "papermill": {
     "duration": 0.075062,
     "end_time": "2025-07-14T18:58:17.422694",
     "exception": false,
     "start_time": "2025-07-14T18:58:17.347632",
     "status": "completed"
    },
    "tags": []
   },
   "outputs": [],
   "source": [
    "#check columns with length greater than 3 and shrinking them\n",
    "\n",
    "df = df.withColumn('State', when(character_length(df['State'])>3,\n",
    "substring(df['State'],0,3)).otherwise(df['State']))\n",
    "\n",
    "# rename the columns which have numbers in state column\n",
    "df = df.withColumn('State', when(df['State'].rlike('^-?\\\\d+(\\\\.\\\\d+)?$'),\n",
    "'Unknown').otherwise(df['State']))\n",
    "\n",
    "#Drop where columns are null or none\n",
    "df = df.na.drop(how='all',subset=['State'])"
   ]
  },
  {
   "cell_type": "code",
   "execution_count": 14,
   "id": "67f42f9f",
   "metadata": {
    "execution": {
     "iopub.execute_input": "2025-07-14T18:58:17.456234Z",
     "iopub.status.busy": "2025-07-14T18:58:17.455450Z",
     "iopub.status.idle": "2025-07-14T18:58:34.360996Z",
     "shell.execute_reply": "2025-07-14T18:58:34.359953Z"
    },
    "papermill": {
     "duration": 16.922775,
     "end_time": "2025-07-14T18:58:34.364457",
     "exception": false,
     "start_time": "2025-07-14T18:58:17.441682",
     "status": "completed"
    },
    "tags": []
   },
   "outputs": [
    {
     "name": "stderr",
     "output_type": "stream",
     "text": [
      "[Stage 56:========================================================================> (146 + 4) / 150]\r"
     ]
    },
    {
     "name": "stdout",
     "output_type": "stream",
     "text": [
      "-RECORD 0-------------------------------\n",
      " summary      | count                   \n",
      " ID           | 316217                  \n",
      " Phone        | 316217                  \n",
      " Organization | 316217                  \n",
      " OLF          | 22157                   \n",
      " Rating       | 316217                  \n",
      " NumberReview | 316217                  \n",
      " Category     | 316217                  \n",
      " Country      | 316217                  \n",
      " State        | 316217                  \n",
      " City         | 316217                  \n",
      "-RECORD 1-------------------------------\n",
      " summary      | mean                    \n",
      " ID           | 449900.6052584143       \n",
      " Phone        | 1.600293109933321E10    \n",
      " Organization | NULL                    \n",
      " OLF          | NULL                    \n",
      " Rating       | 2.8576452246400414      \n",
      " NumberReview | 59.88422191090296       \n",
      " Category     | NULL                    \n",
      " Country      | NULL                    \n",
      " State        | NULL                    \n",
      " City         | NULL                    \n",
      "-RECORD 2-------------------------------\n",
      " summary      | stddev                  \n",
      " ID           | 311326.5683899547       \n",
      " Phone        | 5.356531533379005E9     \n",
      " Organization | NULL                    \n",
      " OLF          | NULL                    \n",
      " Rating       | 1.7586241959986668      \n",
      " NumberReview | 181.11432259512725      \n",
      " Category     | NULL                    \n",
      " Country      | NULL                    \n",
      " State        | NULL                    \n",
      " City         | NULL                    \n",
      "-RECORD 3-------------------------------\n",
      " summary      | min                     \n",
      " ID           | 1                       \n",
      " Phone        | 1.01163E+11             \n",
      " Organization | # 1 Wok                 \n",
      " OLF          | ALLC                    \n",
      " Rating       | 0.0                     \n",
      " NumberReview | 0                       \n",
      " Category     | Air Conditioning ...    \n",
      " Country      | USA                     \n",
      " State        | ABD                     \n",
      " City         | 1150 White Horse ...    \n",
      "-RECORD 4-------------------------------\n",
      " summary      | max                     \n",
      " ID           | 1000000                 \n",
      " Phone        | 1Workmanshipguara...    \n",
      " Organization | 尚串Meet PG火锅串串烧烤 \n",
      " OLF          | TLLC                    \n",
      " Rating       | 5.0                     \n",
      " NumberReview | 12570                   \n",
      " Category     | Plumbing                \n",
      " Country      | USA                     \n",
      " State        | YOR                     \n",
      " City         | yelm                    \n",
      "\n"
     ]
    },
    {
     "name": "stderr",
     "output_type": "stream",
     "text": [
      "                                                                                                    \r"
     ]
    }
   ],
   "source": [
    "df.describe().show(vertical=True)"
   ]
  },
  {
   "cell_type": "markdown",
   "id": "4bac840b",
   "metadata": {
    "papermill": {
     "duration": 0.025772,
     "end_time": "2025-07-14T18:58:34.416249",
     "exception": false,
     "start_time": "2025-07-14T18:58:34.390477",
     "status": "completed"
    },
    "tags": []
   },
   "source": [
    "Phone number is little wonky need to fix that"
   ]
  },
  {
   "cell_type": "code",
   "execution_count": 15,
   "id": "ab0e3e3a",
   "metadata": {
    "execution": {
     "iopub.execute_input": "2025-07-14T18:58:34.458752Z",
     "iopub.status.busy": "2025-07-14T18:58:34.458427Z",
     "iopub.status.idle": "2025-07-14T18:58:34.463086Z",
     "shell.execute_reply": "2025-07-14T18:58:34.462176Z"
    },
    "papermill": {
     "duration": 0.023653,
     "end_time": "2025-07-14T18:58:34.464871",
     "exception": false,
     "start_time": "2025-07-14T18:58:34.441218",
     "status": "completed"
    },
    "tags": []
   },
   "outputs": [],
   "source": [
    "#df = df.withColumn('Phone',when(df['Phone'].rlike(r'^\\d{10}$'),df['Phone']).otherwise(\"Invalid number\"))"
   ]
  },
  {
   "cell_type": "code",
   "execution_count": 16,
   "id": "19eea65b",
   "metadata": {
    "execution": {
     "iopub.execute_input": "2025-07-14T18:58:34.502714Z",
     "iopub.status.busy": "2025-07-14T18:58:34.502315Z",
     "iopub.status.idle": "2025-07-14T18:58:34.531064Z",
     "shell.execute_reply": "2025-07-14T18:58:34.530055Z"
    },
    "papermill": {
     "duration": 0.046503,
     "end_time": "2025-07-14T18:58:34.532747",
     "exception": false,
     "start_time": "2025-07-14T18:58:34.486244",
     "status": "completed"
    },
    "tags": []
   },
   "outputs": [],
   "source": [
    "#Setting a flag for called 'New Place' to address the skewness#\n",
    "df = df.withColumn('New Place', when((df['Rating']==0) & (df['NumberReview']<20),\n",
    "True).otherwise(False)) "
   ]
  },
  {
   "cell_type": "code",
   "execution_count": 17,
   "id": "19a0f381",
   "metadata": {
    "execution": {
     "iopub.execute_input": "2025-07-14T18:58:34.564301Z",
     "iopub.status.busy": "2025-07-14T18:58:34.563988Z",
     "iopub.status.idle": "2025-07-14T18:58:34.630505Z",
     "shell.execute_reply": "2025-07-14T18:58:34.629396Z"
    },
    "papermill": {
     "duration": 0.08526,
     "end_time": "2025-07-14T18:58:34.632807",
     "exception": false,
     "start_time": "2025-07-14T18:58:34.547547",
     "status": "completed"
    },
    "tags": []
   },
   "outputs": [],
   "source": [
    "#Adding a new column called visitor to simulate how the population is\n",
    "from pyspark.sql.functions import rand,floor\n",
    "\n",
    "df = df.withColumn('Number_of_Visitors',\n",
    "                   when(df['NumberReview'].between(0,100),floor(rand() * 1000) + 1)\n",
    "                   .when(df['NumberReview'].between(101,1000),floor(rand() * 10000) + 1)\n",
    "                   .when(df['NumberReview'].between(1001,10000),floor(rand() * 100000) + 1)\n",
    "                   .otherwise(floor(rand() * 1000000) + 1)\n",
    "                  )"
   ]
  },
  {
   "cell_type": "code",
   "execution_count": 18,
   "id": "e922907b",
   "metadata": {
    "execution": {
     "iopub.execute_input": "2025-07-14T18:58:34.684025Z",
     "iopub.status.busy": "2025-07-14T18:58:34.683128Z",
     "iopub.status.idle": "2025-07-14T18:58:49.872800Z",
     "shell.execute_reply": "2025-07-14T18:58:49.871491Z"
    },
    "papermill": {
     "duration": 15.214413,
     "end_time": "2025-07-14T18:58:49.874475",
     "exception": false,
     "start_time": "2025-07-14T18:58:34.660062",
     "status": "completed"
    },
    "tags": []
   },
   "outputs": [
    {
     "name": "stderr",
     "output_type": "stream",
     "text": [
      "[Stage 62:=========================================================================>(149 + 1) / 150]\r"
     ]
    },
    {
     "name": "stdout",
     "output_type": "stream",
     "text": [
      "<bound method RDD.getNumPartitions of MapPartitionsRDD[163] at javaToPython at NativeMethodAccessorImpl.java:0>\n"
     ]
    },
    {
     "name": "stderr",
     "output_type": "stream",
     "text": [
      "                                                                                                    \r"
     ]
    }
   ],
   "source": [
    "# not necessray but saving the file just incase\n",
    "df = df.repartition(150,'State')\n",
    "print(df.rdd.getNumPartitions)\n",
    "df.write.mode(\"overwrite\").json('/kaggle/working/savedFile/')"
   ]
  },
  {
   "cell_type": "markdown",
   "id": "0cdcbf46",
   "metadata": {
    "papermill": {
     "duration": 0.015699,
     "end_time": "2025-07-14T18:58:49.906756",
     "exception": false,
     "start_time": "2025-07-14T18:58:49.891057",
     "status": "completed"
    },
    "tags": []
   },
   "source": [
    "# Data Analysis"
   ]
  },
  {
   "cell_type": "markdown",
   "id": "3954796d",
   "metadata": {
    "papermill": {
     "duration": 0.015551,
     "end_time": "2025-07-14T18:58:49.938283",
     "exception": false,
     "start_time": "2025-07-14T18:58:49.922732",
     "status": "completed"
    },
    "tags": []
   },
   "source": [
    "Now That the Data is cleaned lets get started with the Analysis!!"
   ]
  },
  {
   "cell_type": "code",
   "execution_count": 19,
   "id": "da17d61c",
   "metadata": {
    "execution": {
     "iopub.execute_input": "2025-07-14T18:58:49.972516Z",
     "iopub.status.busy": "2025-07-14T18:58:49.971621Z",
     "iopub.status.idle": "2025-07-14T18:58:49.977537Z",
     "shell.execute_reply": "2025-07-14T18:58:49.976758Z"
    },
    "papermill": {
     "duration": 0.024624,
     "end_time": "2025-07-14T18:58:49.978919",
     "exception": false,
     "start_time": "2025-07-14T18:58:49.954295",
     "status": "completed"
    },
    "tags": []
   },
   "outputs": [],
   "source": [
    "#importing visulaiztion library\n",
    "import matplotlib.pyplot as plt                                     \n",
    "%matplotlib inline                                                  "
   ]
  },
  {
   "cell_type": "code",
   "execution_count": 20,
   "id": "532cb31e",
   "metadata": {
    "execution": {
     "iopub.execute_input": "2025-07-14T18:58:50.012332Z",
     "iopub.status.busy": "2025-07-14T18:58:50.012022Z",
     "iopub.status.idle": "2025-07-14T18:58:50.017193Z",
     "shell.execute_reply": "2025-07-14T18:58:50.016198Z"
    },
    "papermill": {
     "duration": 0.023412,
     "end_time": "2025-07-14T18:58:50.018600",
     "exception": false,
     "start_time": "2025-07-14T18:58:49.995188",
     "status": "completed"
    },
    "tags": []
   },
   "outputs": [
    {
     "name": "stdout",
     "output_type": "stream",
     "text": [
      "root\n",
      " |-- ID: integer (nullable = true)\n",
      " |-- Phone: string (nullable = true)\n",
      " |-- Organization: string (nullable = true)\n",
      " |-- OLF: string (nullable = true)\n",
      " |-- Rating: double (nullable = true)\n",
      " |-- NumberReview: integer (nullable = true)\n",
      " |-- Category: string (nullable = true)\n",
      " |-- Country: string (nullable = true)\n",
      " |-- State: string (nullable = true)\n",
      " |-- City: string (nullable = true)\n",
      " |-- New Place: boolean (nullable = false)\n",
      " |-- Number_of_Visitors: long (nullable = true)\n",
      "\n"
     ]
    }
   ],
   "source": [
    "df.printSchema()"
   ]
  },
  {
   "cell_type": "markdown",
   "id": "05df0984",
   "metadata": {
    "papermill": {
     "duration": 0.01549,
     "end_time": "2025-07-14T18:58:50.050104",
     "exception": false,
     "start_time": "2025-07-14T18:58:50.034614",
     "status": "completed"
    },
    "tags": []
   },
   "source": [
    "Plotting a histogram to see how the rating are distributed"
   ]
  },
  {
   "cell_type": "code",
   "execution_count": 21,
   "id": "b0c8fe9e",
   "metadata": {
    "execution": {
     "iopub.execute_input": "2025-07-14T18:58:50.084976Z",
     "iopub.status.busy": "2025-07-14T18:58:50.084024Z",
     "iopub.status.idle": "2025-07-14T18:58:50.095200Z",
     "shell.execute_reply": "2025-07-14T18:58:50.094186Z"
    },
    "papermill": {
     "duration": 0.029818,
     "end_time": "2025-07-14T18:58:50.096905",
     "exception": false,
     "start_time": "2025-07-14T18:58:50.067087",
     "status": "completed"
    },
    "tags": []
   },
   "outputs": [],
   "source": [
    "df = df.where(df['New place']==False)"
   ]
  },
  {
   "cell_type": "code",
   "execution_count": 22,
   "id": "18523ff2",
   "metadata": {
    "execution": {
     "iopub.execute_input": "2025-07-14T18:58:50.130131Z",
     "iopub.status.busy": "2025-07-14T18:58:50.129771Z",
     "iopub.status.idle": "2025-07-14T18:59:01.595887Z",
     "shell.execute_reply": "2025-07-14T18:59:01.594890Z"
    },
    "papermill": {
     "duration": 11.484725,
     "end_time": "2025-07-14T18:59:01.597823",
     "exception": false,
     "start_time": "2025-07-14T18:58:50.113098",
     "status": "completed"
    },
    "tags": []
   },
   "outputs": [
    {
     "name": "stderr",
     "output_type": "stream",
     "text": [
      "                                                                                                    \r"
     ]
    },
    {
     "data": {
      "image/png": "[encoded data removed]",
      "text/plain": [
       "<Figure size 1000x700 with 1 Axes>"
      ]
     },
     "metadata": {},
     "output_type": "display_data"
    }
   ],
   "source": [
    "fig, ax = plt.subplots(figsize=(10, 7))\n",
    "# PySpark DataFrame to Pandas\n",
    "Histdf = df.select('Rating').filter(df['New Place']==False).toPandas()\n",
    "Histdf['Rating'].hist(ax=ax)\n",
    "plt.title(\"Histogram plot for Rating\")\n",
    "plt.show()"
   ]
  },
  {
   "cell_type": "markdown",
   "id": "52b38553",
   "metadata": {
    "papermill": {
     "duration": 0.016594,
     "end_time": "2025-07-14T18:59:01.631684",
     "exception": false,
     "start_time": "2025-07-14T18:59:01.615090",
     "status": "completed"
    },
    "tags": []
   },
   "source": [
    "scatter plot for Rating and number"
   ]
  },
  {
   "cell_type": "code",
   "execution_count": 23,
   "id": "d8cf60dd",
   "metadata": {
    "execution": {
     "iopub.execute_input": "2025-07-14T18:59:01.667819Z",
     "iopub.status.busy": "2025-07-14T18:59:01.667348Z",
     "iopub.status.idle": "2025-07-14T18:59:08.864837Z",
     "shell.execute_reply": "2025-07-14T18:59:08.863876Z"
    },
    "papermill": {
     "duration": 7.218255,
     "end_time": "2025-07-14T18:59:08.866764",
     "exception": false,
     "start_time": "2025-07-14T18:59:01.648509",
     "status": "completed"
    },
    "tags": []
   },
   "outputs": [
    {
     "name": "stderr",
     "output_type": "stream",
     "text": [
      "                                                                                                    \r"
     ]
    },
    {
     "data": {
      "image/png": "[encoded data removed]",
      "text/plain": [
       "<Figure size 640x480 with 1 Axes>"
      ]
     },
     "metadata": {},
     "output_type": "display_data"
    }
   ],
   "source": [
    "scatterdf = df.select(['Rating','NumberReview']).filter(df['New Place']==False).toPandas()\n",
    "plt.scatter(scatterdf['NumberReview'],scatterdf['Rating'])\n",
    "plt.show()"
   ]
  },
  {
   "cell_type": "code",
   "execution_count": 24,
   "id": "13ba912c",
   "metadata": {
    "execution": {
     "iopub.execute_input": "2025-07-14T18:59:08.905529Z",
     "iopub.status.busy": "2025-07-14T18:59:08.905254Z",
     "iopub.status.idle": "2025-07-14T18:59:18.112298Z",
     "shell.execute_reply": "2025-07-14T18:59:18.110284Z"
    },
    "papermill": {
     "duration": 9.228118,
     "end_time": "2025-07-14T18:59:18.114952",
     "exception": false,
     "start_time": "2025-07-14T18:59:08.886834",
     "status": "completed"
    },
    "tags": []
   },
   "outputs": [
    {
     "name": "stderr",
     "output_type": "stream",
     "text": [
      "                                                                                                    \r"
     ]
    },
    {
     "name": "stdout",
     "output_type": "stream",
     "text": [
      "+-----------------------+\n",
      "|correlation_coefficient|\n",
      "+-----------------------+\n",
      "|    0.08037585938161843|\n",
      "+-----------------------+\n",
      "\n"
     ]
    },
    {
     "name": "stderr",
     "output_type": "stream",
     "text": [
      "[Stage 93:===================================================================>      (136 + 4) / 150]\r"
     ]
    },
    {
     "name": "stdout",
     "output_type": "stream",
     "text": [
      "+-----------------+-----------------+------------------+------------------+----------+----------+-----------+-----------+----------------+\n",
      "|       avg_rating|      avg_reviews|     stddev_rating|    stddev_reviews|min_rating|max_rating|min_reviews|max_reviews|total_businesses|\n",
      "+-----------------+-----------------+------------------+------------------+----------+----------+-----------+-----------+----------------+\n",
      "|3.593214677673331|75.29866313562692|1.1161458105558557|200.21291175378008|       1.0|       5.0|          1|      12570|          251484|\n",
      "+-----------------+-----------------+------------------+------------------+----------+----------+-----------+-----------+----------------+\n",
      "\n"
     ]
    },
    {
     "name": "stderr",
     "output_type": "stream",
     "text": [
      "                                                                                                    \r"
     ]
    }
   ],
   "source": [
    "from pyspark.sql.functions import col, corr, count, avg, stddev, min, max\n",
    "from pyspark.sql.types import DoubleType\n",
    "\n",
    "# Calculate basic correlation between Rating and NumberReview\n",
    "correlation_result = df.select(corr('Rating', 'NumberReview').alias('correlation_coefficient'))\n",
    "correlation_result.show()\n",
    "\n",
    "# Get descriptive statistics\n",
    "stats = df.select(\n",
    "    avg('Rating').alias('avg_rating'),\n",
    "    avg('NumberReview').alias('avg_reviews'),\n",
    "    stddev('Rating').alias('stddev_rating'),\n",
    "    stddev('NumberReview').alias('stddev_reviews'),\n",
    "    min('Rating').alias('min_rating'),\n",
    "    max('Rating').alias('max_rating'),\n",
    "    min('NumberReview').alias('min_reviews'),\n",
    "    max('NumberReview').alias('max_reviews'),\n",
    "    count('*').alias('total_businesses')\n",
    ")\n",
    "stats.show()"
   ]
  },
  {
   "cell_type": "markdown",
   "id": "7f1818cd",
   "metadata": {
    "papermill": {
     "duration": 0.01844,
     "end_time": "2025-07-14T18:59:18.155382",
     "exception": false,
     "start_time": "2025-07-14T18:59:18.136942",
     "status": "completed"
    },
    "tags": []
   },
   "source": [
    "# Basic Distribution Metrics\n",
    "* Average rating by state,city\n",
    "* Number of businesses per state,city"
   ]
  },
  {
   "cell_type": "code",
   "execution_count": 25,
   "id": "5b329000",
   "metadata": {
    "execution": {
     "iopub.execute_input": "2025-07-14T18:59:18.196485Z",
     "iopub.status.busy": "2025-07-14T18:59:18.196226Z",
     "iopub.status.idle": "2025-07-14T18:59:24.924895Z",
     "shell.execute_reply": "2025-07-14T18:59:24.923978Z"
    },
    "papermill": {
     "duration": 6.751984,
     "end_time": "2025-07-14T18:59:24.928522",
     "exception": false,
     "start_time": "2025-07-14T18:59:18.176538",
     "status": "completed"
    },
    "tags": []
   },
   "outputs": [
    {
     "name": "stderr",
     "output_type": "stream",
     "text": [
      "[Stage 106:===================================================>                     (106 + 4) / 150]\r"
     ]
    },
    {
     "name": "stdout",
     "output_type": "stream",
     "text": [
      "+-------------+-----+-------------+------------------+\n",
      "|         City|State|total_Reviews|        avg_rating|\n",
      "+-------------+-----+-------------+------------------+\n",
      "|  Los Angeles|   CA|       628774|3.9921259842519685|\n",
      "|     New York|   NY|       509739| 3.876600102406554|\n",
      "|San Francisco|   CA|       486670| 4.071700991609458|\n",
      "|    San Diego|   CA|       432565| 4.064882943143813|\n",
      "|    Las Vegas|   NV|       358683|3.8059561128526647|\n",
      "|      Chicago|   IL|       354093| 3.761753183153771|\n",
      "|      Seattle|   WA|       226405| 3.939064200217628|\n",
      "|     San Jose|   CA|       198442| 4.022466039707419|\n",
      "|       Austin|   TX|       174778| 3.857315598548972|\n",
      "| Philadelphia|   PA|       165185|3.6580882352941178|\n",
      "|           DC|   DC|       162588| 3.649032258064516|\n",
      "|     Brooklyn|   NY|       155357|3.8714285714285714|\n",
      "|      Houston|   TX|       153054|3.9088937093275486|\n",
      "|       Boston|   MA|       145152| 3.674803149606299|\n",
      "|      Phoenix|   AZ|       142142| 3.817524841915086|\n",
      "|   Sacramento|   CA|       140649|3.8200531208499338|\n",
      "|       Denver|   CO|       138658| 3.771727172717272|\n",
      "|     Portland|   OR|       131688| 4.051194539249146|\n",
      "|      Atlanta|   GA|       126580| 3.615214994487321|\n",
      "|      Oakland|   CA|       117653|3.9559925093632957|\n",
      "+-------------+-----+-------------+------------------+\n",
      "only showing top 20 rows\n",
      "\n"
     ]
    },
    {
     "name": "stderr",
     "output_type": "stream",
     "text": [
      "                                                                                                    \r"
     ]
    }
   ],
   "source": [
    "#Average Rating state,city wise, explains whether more reviews equals more rating\n",
    "AvDF = df.groupby(['State','City']).agg({'Rating':'Avg','NumberReview':'Sum'})\n",
    "AvDF.select(\n",
    "    'City',\n",
    "    'State',\n",
    "    col('sum(NumberReview)').alias('total_Reviews'),\n",
    "    col('avg(Rating)').alias('avg_rating')\n",
    ").sort(col('total_Reviews').desc()).show()"
   ]
  },
  {
   "cell_type": "code",
   "execution_count": 26,
   "id": "2662d615",
   "metadata": {
    "execution": {
     "iopub.execute_input": "2025-07-14T18:59:24.975286Z",
     "iopub.status.busy": "2025-07-14T18:59:24.974932Z",
     "iopub.status.idle": "2025-07-14T18:59:31.335214Z",
     "shell.execute_reply": "2025-07-14T18:59:31.334466Z"
    },
    "papermill": {
     "duration": 6.384925,
     "end_time": "2025-07-14T18:59:31.336972",
     "exception": false,
     "start_time": "2025-07-14T18:59:24.952047",
     "status": "completed"
    },
    "tags": []
   },
   "outputs": [
    {
     "name": "stderr",
     "output_type": "stream",
     "text": [
      "[Stage 112:=====================================================>                   (110 + 5) / 150]\r"
     ]
    },
    {
     "name": "stdout",
     "output_type": "stream",
     "text": [
      "+-----+-------------+-----+\n",
      "|State|         City|count|\n",
      "+-----+-------------+-----+\n",
      "|   CA|  Los Angeles| 2540|\n",
      "|   IL|      Chicago| 2042|\n",
      "|   NY|     New York| 1953|\n",
      "|   NV|    Las Vegas| 1595|\n",
      "|   PA| Philadelphia| 1496|\n",
      "|   CA|    San Diego| 1495|\n",
      "|   NY|     Brooklyn| 1400|\n",
      "|   CA|San Francisco| 1311|\n",
      "|   AZ|      Phoenix| 1107|\n",
      "|   FL|        Miami| 1069|\n",
      "|   CA|     San Jose|  957|\n",
      "|   TX|  San Antonio|  944|\n",
      "|   TX|      Houston|  922|\n",
      "|   WA|      Seattle|  919|\n",
      "|   CO|       Denver|  909|\n",
      "|   GA|      Atlanta|  907|\n",
      "|   FL| Jacksonville|  883|\n",
      "|   FL|      Orlando|  881|\n",
      "|   OR|     Portland|  879|\n",
      "|   NC|    Charlotte|  865|\n",
      "+-----+-------------+-----+\n",
      "only showing top 20 rows\n",
      "\n"
     ]
    },
    {
     "name": "stderr",
     "output_type": "stream",
     "text": [
      "                                                                                                    \r"
     ]
    }
   ],
   "source": [
    "# Give the total counts of business in a city,so more options i guess\n",
    "df.groupby(['State','City']).count().orderBy('count',ascending=False).show()"
   ]
  },
  {
   "cell_type": "markdown",
   "id": "a937e47f",
   "metadata": {
    "papermill": {
     "duration": 0.021034,
     "end_time": "2025-07-14T18:59:31.379500",
     "exception": false,
     "start_time": "2025-07-14T18:59:31.358466",
     "status": "completed"
    },
    "tags": []
   },
   "source": [
    "# Category-Based Analytics\n",
    "\n",
    "\n",
    "* Average rating by category, review volume by category\n",
    "* Most/least common business categories per region\n",
    "* Which categories consistently get higher ratings"
   ]
  },
  {
   "cell_type": "code",
   "execution_count": 27,
   "id": "4bbcf362",
   "metadata": {
    "execution": {
     "iopub.execute_input": "2025-07-14T18:59:31.421777Z",
     "iopub.status.busy": "2025-07-14T18:59:31.421453Z",
     "iopub.status.idle": "2025-07-14T18:59:37.445492Z",
     "shell.execute_reply": "2025-07-14T18:59:37.441484Z"
    },
    "papermill": {
     "duration": 6.049848,
     "end_time": "2025-07-14T18:59:37.449952",
     "exception": false,
     "start_time": "2025-07-14T18:59:31.400104",
     "status": "completed"
    },
    "tags": []
   },
   "outputs": [
    {
     "name": "stderr",
     "output_type": "stream",
     "text": [
      "[Stage 118:====================================================================>    (140 + 4) / 150]\r"
     ]
    },
    {
     "name": "stdout",
     "output_type": "stream",
     "text": [
      "+--------------------+-------------+------------------+\n",
      "|            Category|total_Reviews|        avg_rating|\n",
      "+--------------------+-------------+------------------+\n",
      "|            Delivery|     17668019|3.4614218230594274|\n",
      "|            Plumbing|       726439| 3.829777290457103|\n",
      "|Air Conditioning ...|       541951|3.7660614525139664|\n",
      "+--------------------+-------------+------------------+\n",
      "\n"
     ]
    },
    {
     "name": "stderr",
     "output_type": "stream",
     "text": [
      "                                                                                                    \r"
     ]
    }
   ],
   "source": [
    "# Category wise average Rating and total reviews , which helps identify how categories perform and how popular they are\n",
    "Catgory_Df = df.groupby(['Category']).agg({'Rating':'Avg','NumberReview':'Sum'})\n",
    "Catgory_Df.select(\n",
    "    col('Category'),\n",
    "    col('sum(NumberReview)').alias('total_Reviews'),\n",
    "    col('avg(Rating)').alias('avg_rating')\n",
    ").sort(col('total_Reviews').desc()).show()"
   ]
  },
  {
   "cell_type": "code",
   "execution_count": 28,
   "id": "90ee1b6c",
   "metadata": {
    "execution": {
     "iopub.execute_input": "2025-07-14T18:59:37.525242Z",
     "iopub.status.busy": "2025-07-14T18:59:37.524166Z",
     "iopub.status.idle": "2025-07-14T18:59:47.616243Z",
     "shell.execute_reply": "2025-07-14T18:59:47.615128Z"
    },
    "papermill": {
     "duration": 10.135293,
     "end_time": "2025-07-14T18:59:47.621209",
     "exception": false,
     "start_time": "2025-07-14T18:59:37.485916",
     "status": "completed"
    },
    "tags": []
   },
   "outputs": [
    {
     "name": "stderr",
     "output_type": "stream",
     "text": [
      "[Stage 132:======================================================>                  (113 + 4) / 150]\r"
     ]
    },
    {
     "name": "stdout",
     "output_type": "stream",
     "text": [
      "+-----+--------------------+--------------+----------------+------------------+\n",
      "|State|            Category|business_count|total_businesses|        percentage|\n",
      "+-----+--------------------+--------------+----------------+------------------+\n",
      "|   AK|Air Conditioning ...|           148|             584| 25.34246575342466|\n",
      "|   AK|            Delivery|           301|             584| 51.54109589041096|\n",
      "|   AK|            Plumbing|           135|             584|23.116438356164384|\n",
      "|   AL|            Plumbing|           623|            3049|20.432928829124304|\n",
      "|   AL|Air Conditioning ...|           833|            3049|27.320432928829124|\n",
      "|   AL|            Delivery|          1593|            3049| 52.24663824204657|\n",
      "|   AR|            Plumbing|           445|            1801|24.708495280399777|\n",
      "|   AR|Air Conditioning ...|           489|            1801|27.151582454192113|\n",
      "|   AR|            Delivery|           867|            1801| 48.13992226540811|\n",
      "|   AZ|            Plumbing|          1516|            5819| 26.05258635504382|\n",
      "|   AZ|Air Conditioning ...|          1005|            5819|17.271008764392505|\n",
      "|   AZ|            Delivery|          3298|            5819|56.676404880563666|\n",
      "|   BC|            Plumbing|           148|             172| 86.04651162790698|\n",
      "|   BC|            Delivery|            24|             172|13.953488372093023|\n",
      "|  BCN|            Delivery|            65|              80|             81.25|\n",
      "|  BCN|            Plumbing|             8|              80|              10.0|\n",
      "|  BCN|Air Conditioning ...|             7|              80|              8.75|\n",
      "|   CA|            Plumbing|         10398|           38848|26.765856672158154|\n",
      "|   CA|Air Conditioning ...|          5148|           38848|13.251647446457989|\n",
      "|   CA|            Delivery|         23302|           38848|59.982495881383855|\n",
      "+-----+--------------------+--------------+----------------+------------------+\n",
      "only showing top 20 rows\n",
      "\n"
     ]
    },
    {
     "name": "stderr",
     "output_type": "stream",
     "text": [
      "                                                                                                    \r"
     ]
    }
   ],
   "source": [
    "'''Most/least common business categories per state,help us identify which category is popular in a said state and how dominant they are'''\n",
    "# each states business count category wise\n",
    "category_distribution = df.groupBy('State', 'Category').count().withColumnRenamed('count', 'business_count')\n",
    "\n",
    "# Get total businesses for each state\n",
    "state_totals = df.groupBy('State').count().withColumnRenamed('count', 'total_businesses')\n",
    "\n",
    "# joining the tables and calculating percentage\n",
    "category_distribution.join(state_totals, 'State') \\\n",
    "    .withColumn('percentage', \n",
    "                (col('business_count') / col('total_businesses') * 100))\\\n",
    "    .sort('State').show()"
   ]
  },
  {
   "cell_type": "markdown",
   "id": "ee9c8a51",
   "metadata": {
    "papermill": {
     "duration": 0.022965,
     "end_time": "2025-07-14T18:59:47.680377",
     "exception": false,
     "start_time": "2025-07-14T18:59:47.657412",
     "status": "completed"
    },
    "tags": []
   },
   "source": [
    "Which categories consistently get higher ratings"
   ]
  },
  {
   "cell_type": "code",
   "execution_count": 29,
   "id": "cf20f111",
   "metadata": {
    "execution": {
     "iopub.execute_input": "2025-07-14T18:59:47.724277Z",
     "iopub.status.busy": "2025-07-14T18:59:47.723966Z",
     "iopub.status.idle": "2025-07-14T18:59:53.086934Z",
     "shell.execute_reply": "2025-07-14T18:59:53.085528Z"
    },
    "papermill": {
     "duration": 5.387282,
     "end_time": "2025-07-14T18:59:53.089131",
     "exception": false,
     "start_time": "2025-07-14T18:59:47.701849",
     "status": "completed"
    },
    "tags": []
   },
   "outputs": [
    {
     "name": "stderr",
     "output_type": "stream",
     "text": [
      "[Stage 138:=======================================================>                 (114 + 5) / 150]\r"
     ]
    },
    {
     "name": "stdout",
     "output_type": "stream",
     "text": [
      "+--------------------+------------------+------------------+--------------+------------------+--------------------+------------------+\n",
      "|            Category|        avg_rating|     rating_stddev|business_count|       avg_reviews|  rating_consistency|     quality_score|\n",
      "+--------------------+------------------+------------------+--------------+------------------+--------------------+------------------+\n",
      "|            Delivery|3.4614218230594274|0.8768302237741828|        154323|114.48727020599651| 0.12316977622581715|2.7174939062416725|\n",
      "|            Plumbing| 3.829777290457103|1.3885470184648339|         55633|13.057699566803876|-0.38854701846483386|2.3269585911987507|\n",
      "|Air Conditioning ...|3.7660614525139664|1.3909912031885117|         41528|13.050255249470236|-0.39099120318851166|2.2942614778677926|\n",
      "+--------------------+------------------+------------------+--------------+------------------+--------------------+------------------+\n",
      "\n"
     ]
    },
    {
     "name": "stderr",
     "output_type": "stream",
     "text": [
      "                                                                                                    \r"
     ]
    }
   ],
   "source": [
    "from pyspark.sql.functions import avg, stddev, count,log\n",
    "#which business categories maintain high customer satisfaction across all catgories\n",
    "df.groupBy('Category') \\\n",
    "    .agg(\n",
    "        avg('Rating').alias('avg_rating'),\n",
    "        stddev('Rating').alias('rating_stddev'),\n",
    "        count('*').alias('business_count'),\n",
    "        avg('NumberReview').alias('avg_reviews')\n",
    "    ) \\\n",
    "    .withColumn('rating_consistency', \n",
    "                lit(1) - col('rating_stddev')) \\\n",
    "    .withColumn('quality_score',\n",
    "                (col('avg_rating') * 0.5) + \n",
    "                (col('rating_consistency') * 0.3) + \n",
    "                (log(col('avg_reviews') + 1) * 0.2)) \\\n",
    "    .orderBy(col('quality_score').desc()).show()"
   ]
  },
  {
   "cell_type": "markdown",
   "id": "e94110ed",
   "metadata": {
    "papermill": {
     "duration": 0.027067,
     "end_time": "2025-07-14T18:59:53.156420",
     "exception": false,
     "start_time": "2025-07-14T18:59:53.129353",
     "status": "completed"
    },
    "tags": []
   },
   "source": [
    "# Geographic Insights\n",
    "* States with highest average ratings\n",
    "* Top-performing cities within each state\n",
    "* Rating variance across different regions"
   ]
  },
  {
   "cell_type": "code",
   "execution_count": 30,
   "id": "efc3190c",
   "metadata": {
    "execution": {
     "iopub.execute_input": "2025-07-14T18:59:53.201346Z",
     "iopub.status.busy": "2025-07-14T18:59:53.201063Z",
     "iopub.status.idle": "2025-07-14T19:00:01.553164Z",
     "shell.execute_reply": "2025-07-14T19:00:01.551147Z"
    },
    "papermill": {
     "duration": 8.376696,
     "end_time": "2025-07-14T19:00:01.555408",
     "exception": false,
     "start_time": "2025-07-14T18:59:53.178712",
     "status": "completed"
    },
    "tags": []
   },
   "outputs": [
    {
     "name": "stderr",
     "output_type": "stream",
     "text": [
      "[Stage 151:===============================================================>         (130 + 4) / 150]\r"
     ]
    },
    {
     "name": "stdout",
     "output_type": "stream",
     "text": [
      "+-----+-------------+\n",
      "|State|State_Average|\n",
      "+-----+-------------+\n",
      "|  XGM|          5.0|\n",
      "|  Spo|          5.0|\n",
      "|  Mex|          5.0|\n",
      "|  XWM|          5.0|\n",
      "|  CON|          5.0|\n",
      "|  NLE|          5.0|\n",
      "|  Gra|          5.0|\n",
      "|  DBY|          5.0|\n",
      "|  SCB|          5.0|\n",
      "|  TAM|          4.8|\n",
      "+-----+-------------+\n",
      "only showing top 10 rows\n",
      "\n"
     ]
    },
    {
     "name": "stderr",
     "output_type": "stream",
     "text": [
      "                                                                                                    \r"
     ]
    }
   ],
   "source": [
    "Rating_sum = df.groupby('State').sum('Rating').withColumnRenamed('sum(Rating)','Total_Rating')\n",
    "\n",
    "#Displaying states with Hightest Average Rating\n",
    "Rating_sum.join(state_totals,'State','inner')\\\n",
    "    .withColumn('State_Average',(col('Total_Rating'))/(col('total_businesses')))\\\n",
    "    .select('State','State_Average').orderBy('State_Average',ascending=False).show(10)"
   ]
  },
  {
   "cell_type": "code",
   "execution_count": 31,
   "id": "8ab8475c",
   "metadata": {
    "execution": {
     "iopub.execute_input": "2025-07-14T19:00:01.606454Z",
     "iopub.status.busy": "2025-07-14T19:00:01.606141Z",
     "iopub.status.idle": "2025-07-14T19:00:01.611929Z",
     "shell.execute_reply": "2025-07-14T19:00:01.611091Z"
    },
    "papermill": {
     "duration": 0.032253,
     "end_time": "2025-07-14T19:00:01.614364",
     "exception": false,
     "start_time": "2025-07-14T19:00:01.582111",
     "status": "completed"
    },
    "tags": []
   },
   "outputs": [
    {
     "data": {
      "text/plain": [
       "\"#Most Revieved Business(This might be noth that necssary)\\nReview_Sum = df.groupby('State','Organization').sum('NumberReview').withColumnRenamed('sum(NumberReview)', 'Total_Review')\\n\\n#State wise average Rating(State total from previous analysis)\\n\\nReview_Sum.join(state_totals,'State','inner')    .withColumn('Review_Vol',(col('Total_Review')/(col('total_businesses'))))    .select('State','Organization','Review_Vol').show()\""
      ]
     },
     "execution_count": 31,
     "metadata": {},
     "output_type": "execute_result"
    }
   ],
   "source": [
    "\"\"\"#Most Revieved Business(This might be noth that necssary)\n",
    "Review_Sum = df.groupby('State','Organization').sum('NumberReview').withColumnRenamed('sum(NumberReview)', 'Total_Review')\n",
    "\n",
    "#State wise average Rating(State total from previous analysis)\n",
    "\n",
    "Review_Sum.join(state_totals,'State','inner')\\\n",
    "    .withColumn('Review_Vol',(col('Total_Review')/(col('total_businesses'))))\\\n",
    "    .select('State','Organization','Review_Vol').show()\"\"\""
   ]
  },
  {
   "cell_type": "code",
   "execution_count": 32,
   "id": "093df54e",
   "metadata": {
    "execution": {
     "iopub.execute_input": "2025-07-14T19:00:01.666915Z",
     "iopub.status.busy": "2025-07-14T19:00:01.665688Z",
     "iopub.status.idle": "2025-07-14T19:00:15.707272Z",
     "shell.execute_reply": "2025-07-14T19:00:15.704842Z"
    },
    "papermill": {
     "duration": 14.070692,
     "end_time": "2025-07-14T19:00:15.709455",
     "exception": false,
     "start_time": "2025-07-14T19:00:01.638763",
     "status": "completed"
    },
    "tags": []
   },
   "outputs": [
    {
     "name": "stderr",
     "output_type": "stream",
     "text": [
      "[Stage 154:========================================================================>(149 + 1) / 150]\r"
     ]
    },
    {
     "name": "stdout",
     "output_type": "stream",
     "text": [
      "<bound method RDD.getNumPartitions of MapPartitionsRDD[317] at javaToPython at NativeMethodAccessorImpl.java:0>\n"
     ]
    },
    {
     "name": "stderr",
     "output_type": "stream",
     "text": [
      "25/07/14 19:00:09 WARN WindowExec: No Partition Defined for Window operation! Moving all data to a single partition, this can cause serious performance degradation.\n",
      "25/07/14 19:00:09 WARN WindowExec: No Partition Defined for Window operation! Moving all data to a single partition, this can cause serious performance degradation.\n",
      "25/07/14 19:00:09 WARN WindowExec: No Partition Defined for Window operation! Moving all data to a single partition, this can cause serious performance degradation.\n",
      "25/07/14 19:00:11 WARN WindowExec: No Partition Defined for Window operation! Moving all data to a single partition, this can cause serious performance degradation.\n",
      "25/07/14 19:00:11 WARN WindowExec: No Partition Defined for Window operation! Moving all data to a single partition, this can cause serious performance degradation.\n",
      "25/07/14 19:00:13 WARN WindowExec: No Partition Defined for Window operation! Moving all data to a single partition, this can cause serious performance degradation.\n",
      "25/07/14 19:00:13 WARN WindowExec: No Partition Defined for Window operation! Moving all data to a single partition, this can cause serious performance degradation.\n",
      "25/07/14 19:00:15 WARN WindowExec: No Partition Defined for Window operation! Moving all data to a single partition, this can cause serious performance degradation.\n",
      "25/07/14 19:00:15 WARN WindowExec: No Partition Defined for Window operation! Moving all data to a single partition, this can cause serious performance degradation.\n",
      "25/07/14 19:00:15 WARN WindowExec: No Partition Defined for Window operation! Moving all data to a single partition, this can cause serious performance degradation.\n"
     ]
    },
    {
     "name": "stdout",
     "output_type": "stream",
     "text": [
      "+-------------+------------------+-----------------+\n",
      "|         City|       Performance|Performance_Index|\n",
      "+-------------+------------------+-----------------+\n",
      "|  Los Angeles| 314390.1937449881|                1|\n",
      "|     New York|254959.60157328178|                2|\n",
      "|San Francisco|243338.25738838327|                3|\n",
      "|    San Diego| 216288.2508387665|                4|\n",
      "|    Las Vegas|179383.04443367402|                5|\n",
      "|      Chicago|177049.50946446566|                6|\n",
      "|      Seattle|113205.65129520444|                7|\n",
      "|     San Jose| 99254.21591325967|                8|\n",
      "|       Austin| 87457.56688207683|                9|\n",
      "| Philadelphia| 82614.92438944602|               10|\n",
      "|           DC| 81296.91927423625|               11|\n",
      "|     Brooklyn| 77967.08904542531|               12|\n",
      "|      Houston| 76548.12505846705|               13|\n",
      "|       Boston|  72600.4429830689|               14|\n",
      "|     Portland| 71601.19127380024|               15|\n",
      "|      Phoenix|  71098.5564794282|               16|\n",
      "|   Sacramento| 70327.55610192128|               17|\n",
      "|       Denver| 69601.00605888196|               18|\n",
      "|      Atlanta| 63294.39590255599|               19|\n",
      "|      Oakland| 59660.64547171777|               20|\n",
      "+-------------+------------------+-----------------+\n",
      "only showing top 20 rows\n",
      "\n"
     ]
    },
    {
     "name": "stderr",
     "output_type": "stream",
     "text": [
      "                                                                                                    \r"
     ]
    }
   ],
   "source": [
    "# top performing cities: ordering the cities based on how well they perfrorm,\n",
    "# This helps identify cities that have both high-quality businesses and active customer engagement.\n",
    "from pyspark.sql.window import Window\n",
    "from pyspark.sql.functions import row_number,desc\n",
    "\n",
    "df = df.repartition(150,'State')\n",
    "print(df.rdd.getNumPartitions)\n",
    "\n",
    "CityDF = df.groupby(['City']).agg({'Rating':'Avg','NumberReview':'Sum','Organization':'count','Number_of_Visitors':'Sum'})\n",
    "\n",
    "BusinessDensity = col('count(Organization)')/col('sum(Number_of_Visitors)')\n",
    "CityDf = CityDF.withColumn('Performance',(col('avg(Rating)') * 0.8) + (col('sum(NumberReview)') * 0.5) + (BusinessDensity * 0.2))\n",
    "#Using window Function to rank\n",
    "order = Window.orderBy(desc(\"Performance\"))\n",
    "CityDf.withColumn(\"Performance_Index\", row_number().over(order)).select(['City','Performance','Performance_Index']).show()\n",
    "\n",
    "#need some more work\n"
   ]
  },
  {
   "cell_type": "markdown",
   "id": "9acb8aee",
   "metadata": {
    "papermill": {
     "duration": 0.044245,
     "end_time": "2025-07-14T19:00:15.798961",
     "exception": false,
     "start_time": "2025-07-14T19:00:15.754716",
     "status": "completed"
    },
    "tags": []
   },
   "source": [
    "* Regional patterns: Rating variance across different regions"
   ]
  },
  {
   "cell_type": "code",
   "execution_count": 33,
   "id": "29f697cf",
   "metadata": {
    "execution": {
     "iopub.execute_input": "2025-07-14T19:00:15.872324Z",
     "iopub.status.busy": "2025-07-14T19:00:15.872022Z",
     "iopub.status.idle": "2025-07-14T19:00:20.851003Z",
     "shell.execute_reply": "2025-07-14T19:00:20.848799Z"
    },
    "papermill": {
     "duration": 5.009309,
     "end_time": "2025-07-14T19:00:20.852569",
     "exception": false,
     "start_time": "2025-07-14T19:00:15.843260",
     "status": "completed"
    },
    "tags": []
   },
   "outputs": [
    {
     "name": "stderr",
     "output_type": "stream",
     "text": [
      "                                                                                                    \r"
     ]
    },
    {
     "name": "stdout",
     "output_type": "stream",
     "text": [
      "+-----+------------------+------------------+------------------+\n",
      "|State|        Rating_avg|     Rating_stddev|             Coeff|\n",
      "+-----+------------------+------------------+------------------+\n",
      "|   AZ|3.7375837772813196|1.0504865074603429| 28.10603240108389|\n",
      "|   WV|3.2825829383886256|1.2675126580467728| 38.61327137309064|\n",
      "|  XGM|               5.0|              NULL|              NULL|\n",
      "|   ID| 3.509684361549498|1.1719132481751549| 33.39084451622209|\n",
      "|  For|               4.0|              NULL|              NULL|\n",
      "|   NE| 3.404104979811575|1.2574585452460136| 36.93947609440696|\n",
      "|   SD|3.2296686746987953|1.3792392634582693|42.705286590640746|\n",
      "|  SON|             4.425|1.0671531237239031| 24.11645477342154|\n",
      "|   DC| 3.649807938540333|0.8522011252849282|23.349204660499172|\n",
      "|   VT|3.5018382352941178|1.2738486312585318|36.376569837513976|\n",
      "|   MO|3.4283704572098475|1.2153612614928635|  35.4501147604094|\n",
      "|  BCN|           3.88125|0.9783858768658885|25.208009709910172|\n",
      "|  SCB|               5.0|              NULL|              NULL|\n",
      "|   WA|3.6739696312364427|0.9332781498338737| 25.40244595107845|\n",
      "|  CHH|              3.25|1.7677669529663689|54.392829322042125|\n",
      "|   IN|3.4540517054095154|1.1814913284356539|34.205953737903734|\n",
      "|  DBY|               5.0|              NULL|              NULL|\n",
      "|   TX|3.4947075639341727|1.0714465900850303| 30.65912012617295|\n",
      "|   NH|3.5519770408163267|1.1994770906993666| 33.76928051380926|\n",
      "|  Wes|               1.0|              NULL|              NULL|\n",
      "+-----+------------------+------------------+------------------+\n",
      "only showing top 20 rows\n",
      "\n"
     ]
    }
   ],
   "source": [
    "#Coefficient of Variation\n",
    "Regional_df = df.groupBy('State').agg(\n",
    "    avg('Rating').alias('Rating_avg'),\n",
    "    stddev('Rating').alias('Rating_stddev')\n",
    ")\n",
    "\n",
    "Regional_df.withColumn('Coeff',(col('Rating_stddev')/col('Rating_avg'))*100).show()"
   ]
  },
  {
   "cell_type": "markdown",
   "id": "8f5ea83c",
   "metadata": {
    "papermill": {
     "duration": 0.026562,
     "end_time": "2025-07-14T19:00:20.904103",
     "exception": false,
     "start_time": "2025-07-14T19:00:20.877541",
     "status": "completed"
    },
    "tags": []
   },
   "source": [
    "# Business Quality Metrics\n",
    "* Businesses with >4.5 rating and >100 reviews\n",
    "* Categories or regions with consistently low ratings"
   ]
  },
  {
   "cell_type": "code",
   "execution_count": 34,
   "id": "6697fe8c",
   "metadata": {
    "execution": {
     "iopub.execute_input": "2025-07-14T19:00:20.955533Z",
     "iopub.status.busy": "2025-07-14T19:00:20.955249Z",
     "iopub.status.idle": "2025-07-14T19:00:28.925165Z",
     "shell.execute_reply": "2025-07-14T19:00:28.922954Z"
    },
    "papermill": {
     "duration": 7.997646,
     "end_time": "2025-07-14T19:00:28.926647",
     "exception": false,
     "start_time": "2025-07-14T19:00:20.929001",
     "status": "completed"
    },
    "tags": []
   },
   "outputs": [
    {
     "name": "stderr",
     "output_type": "stream",
     "text": [
      "[Stage 188:==============================================>                           (95 + 4) / 150]\r"
     ]
    },
    {
     "name": "stdout",
     "output_type": "stream",
     "text": [
      "+-----+-----+----------------+------------------+\n",
      "|State|count|total_businesses|        percentage|\n",
      "+-----+-----+----------------+------------------+\n",
      "|   NV|  320|            2796|11.444921316165951|\n",
      "|   CA| 4210|           38848|10.837108731466227|\n",
      "|   DC|   70|             781| 8.962868117797695|\n",
      "|   HI|   98|            1234| 7.941653160453808|\n",
      "|   AZ|  385|            5819|  6.61625708884688|\n",
      "|   WA|  300|            4610| 6.507592190889371|\n",
      "|   TX|  713|           12943| 5.508769218882794|\n",
      "|   FL|  887|           16754| 5.294258087620866|\n",
      "|   OR|  196|            3758| 5.215540180947312|\n",
      "|   UT|   96|            2239| 4.287628405538187|\n",
      "|   VA|  234|            5761| 4.061794827286929|\n",
      "|   CO|  225|            5654|3.9794835514679874|\n",
      "|   NY|  629|           16269|3.8662486938349003|\n",
      "|   IL|  349|           10724| 3.254382693024991|\n",
      "|   NM|   51|            1632|             3.125|\n",
      "|   GA|  174|            5684| 3.061224489795918|\n",
      "|   MD|  142|            4886| 2.906262791649611|\n",
      "|   NC|  193|            7071|2.7294583510111723|\n",
      "|   NJ|  241|            9414|2.5600169959634584|\n",
      "|   MO|  108|            4265|2.5322391559202813|\n",
      "+-----+-----+----------------+------------------+\n",
      "only showing top 20 rows\n",
      "\n"
     ]
    },
    {
     "name": "stderr",
     "output_type": "stream",
     "text": [
      "                                                                                                    \r"
     ]
    }
   ],
   "source": [
    "# Businesses with >4.5 rating and >100 reviews help us identify percentage of business that are high performers\n",
    "High_Performance_Businesses = df.filter(((df['Rating'])>=4.5) & ((df['NumberReview'])>=100))\\\n",
    "                                .groupby('State').count()\n",
    "\n",
    "#Percentage per state\n",
    "High_Performance_Businesses.join(state_totals, 'State') \\\n",
    "    .withColumn('percentage', \n",
    "                (col('count') / col('total_businesses') * 100))\\\n",
    "    .sort('percentage',ascending=False).show()"
   ]
  },
  {
   "cell_type": "markdown",
   "id": "086474eb",
   "metadata": {
    "papermill": {
     "duration": 0.039001,
     "end_time": "2025-07-14T19:00:28.991967",
     "exception": false,
     "start_time": "2025-07-14T19:00:28.952966",
     "status": "completed"
    },
    "tags": []
   },
   "source": [
    "* Categories or regions with consistently low ratings:\n",
    "        Helps with identifying each organizantions rating against its category's average in each state"
   ]
  },
  {
   "cell_type": "code",
   "execution_count": 35,
   "id": "653c51f8",
   "metadata": {
    "execution": {
     "iopub.execute_input": "2025-07-14T19:00:29.045345Z",
     "iopub.status.busy": "2025-07-14T19:00:29.044937Z",
     "iopub.status.idle": "2025-07-14T19:00:39.525826Z",
     "shell.execute_reply": "2025-07-14T19:00:39.524851Z"
    },
    "papermill": {
     "duration": 10.510284,
     "end_time": "2025-07-14T19:00:39.527717",
     "exception": false,
     "start_time": "2025-07-14T19:00:29.017433",
     "status": "completed"
    },
    "tags": []
   },
   "outputs": [
    {
     "name": "stderr",
     "output_type": "stream",
     "text": [
      "                                                                                                    \r"
     ]
    },
    {
     "name": "stdout",
     "output_type": "stream",
     "text": [
      "+----------------------------------------------+-----+--------------------------+------+------------------+-------------------+\n",
      "|Organization                                  |State|Category                  |Rating|State_Category_Avg|Performance        |\n",
      "+----------------------------------------------+-----+--------------------------+------+------------------+-------------------+\n",
      "|Harri Plumbing & Heating                      |AK   |Plumbing                  |2.5   |3.248148148148148 |-23.03306727480045 |\n",
      "|Circle Plumbing & Heating                     |AK   |Air Conditioning & Heating|1.5   |3.4763513513513513|-56.85131195335277 |\n",
      "|Pleasants Plumbing & Heating                  |AK   |Plumbing                  |2.5   |3.248148148148148 |-23.03306727480045 |\n",
      "|C & J Plumbing and Electric                   |AK   |Plumbing                  |3.5   |3.248148148148148 |7.753705815279366  |\n",
      "|Alaska Plumbing & Heating                     |AK   |Plumbing                  |2.5   |3.248148148148148 |-23.03306727480045 |\n",
      "|Drain Masters                                 |AK   |Plumbing                  |4.5   |3.248148148148148 |38.54047890535918  |\n",
      "|Behrends Mechanical                           |AK   |Plumbing                  |2.5   |3.248148148148148 |-23.03306727480045 |\n",
      "|Blake's Plumbing & Heating                    |AK   |Plumbing                  |4.5   |3.248148148148148 |38.54047890535918  |\n",
      "|Taku Plumbing and Heating                     |AK   |Plumbing                  |2.5   |3.248148148148148 |-23.03306727480045 |\n",
      "|Anchorage Plumbing & Heating                  |AK   |Plumbing                  |4.0   |3.248148148148148 |23.147092360319277 |\n",
      "|Scott's Heating & Plumbing Service            |AK   |Plumbing                  |1.0   |3.248148148148148 |-69.21322690992018 |\n",
      "|Alaska Sewer and Drain                        |AK   |Plumbing                  |5.0   |3.248148148148148 |53.9338654503991   |\n",
      "|Premier Mechanical                            |AK   |Plumbing                  |1.0   |3.248148148148148 |-69.21322690992018 |\n",
      "|First Class Plumbing and Heating              |AK   |Plumbing                  |5.0   |3.248148148148148 |53.9338654503991   |\n",
      "|Breakwater Plumbing & Heating                 |AK   |Plumbing                  |1.0   |3.248148148148148 |-69.21322690992018 |\n",
      "|Burton Repair                                 |AK   |Plumbing                  |5.0   |3.248148148148148 |53.9338654503991   |\n",
      "|Larry's Plumbing & Heating                    |AK   |Plumbing                  |1.0   |3.248148148148148 |-69.21322690992018 |\n",
      "|Alaska Plumbing Service                       |AK   |Plumbing                  |4.0   |3.248148148148148 |23.147092360319277 |\n",
      "|Above Grade Plumbing                          |AK   |Plumbing                  |1.0   |3.248148148148148 |-69.21322690992018 |\n",
      "|Arctic Sewer and Drain                        |AK   |Plumbing                  |5.0   |3.248148148148148 |53.9338654503991   |\n",
      "|Streifel Plumbing & Heating                   |AK   |Plumbing                  |1.0   |3.248148148148148 |-69.21322690992018 |\n",
      "|Klebs Mechanical                              |AK   |Plumbing                  |3.0   |3.248148148148148 |-7.639680729760544 |\n",
      "|The Plug Buster                               |AK   |Plumbing                  |5.0   |3.248148148148148 |53.9338654503991   |\n",
      "|Kyco                                          |AK   |Plumbing                  |3.5   |3.248148148148148 |7.753705815279366  |\n",
      "|Rock Solid Plumbing                           |AK   |Plumbing                  |3.5   |3.248148148148148 |7.753705815279366  |\n",
      "|Living Waters Plumbing and Mechanical         |AK   |Plumbing                  |5.0   |3.248148148148148 |53.9338654503991   |\n",
      "|AimHigher Home Improvement                    |AK   |Plumbing                  |3.5   |3.248148148148148 |7.753705815279366  |\n",
      "|One Stop Services                             |AK   |Plumbing                  |3.5   |3.248148148148148 |7.753705815279366  |\n",
      "|Boiler Man Plumbing & Heating                 |AK   |Plumbing                  |3.5   |3.248148148148148 |7.753705815279366  |\n",
      "|Courtesy Flush                                |AK   |Plumbing                  |5.0   |3.248148148148148 |53.9338654503991   |\n",
      "|Cm Mechanical                                 |AK   |Plumbing                  |3.5   |3.248148148148148 |7.753705815279366  |\n",
      "|Partusch Plumbing & Heating                   |AK   |Plumbing                  |2.0   |3.248148148148148 |-38.42645381984036 |\n",
      "|Ak Plumbing & Heating Supply                  |AK   |Plumbing                  |3.5   |3.248148148148148 |7.753705815279366  |\n",
      "|Northern Energy Technology                    |AK   |Plumbing                  |4.0   |3.248148148148148 |23.147092360319277 |\n",
      "|J D Mac                                       |AK   |Plumbing                  |3.5   |3.248148148148148 |7.753705815279366  |\n",
      "|Core and Main                                 |AK   |Plumbing                  |5.0   |3.248148148148148 |53.9338654503991   |\n",
      "|Trans-Alaska Mechanical                       |AK   |Plumbing                  |3.5   |3.248148148148148 |7.753705815279366  |\n",
      "|Discount Mechanical Heating and Plumbing      |AK   |Plumbing                  |2.5   |3.248148148148148 |-23.03306727480045 |\n",
      "|Mat-Su Mechanical                             |AK   |Plumbing                  |3.0   |3.248148148148148 |-7.639680729760544 |\n",
      "|Drain Masters                                 |AK   |Plumbing                  |3.5   |3.248148148148148 |7.753705815279366  |\n",
      "|Residential Plumbing & Heating                |AK   |Plumbing                  |3.0   |3.248148148148148 |-7.639680729760544 |\n",
      "|Extreme Heating and Air                       |AK   |Plumbing                  |3.5   |3.248148148148148 |7.753705815279366  |\n",
      "|AK Clearwater Mechanical                      |AK   |Plumbing                  |2.0   |3.248148148148148 |-38.42645381984036 |\n",
      "|Wagner HVAC and Plumbing                      |AK   |Plumbing                  |1.0   |3.248148148148148 |-69.21322690992018 |\n",
      "|Alaska Sewer and Drain                        |AK   |Plumbing                  |2.0   |3.248148148148148 |-38.42645381984036 |\n",
      "|Knik Heating                                  |AK   |Plumbing                  |2.0   |3.248148148148148 |-38.42645381984036 |\n",
      "|Residential Plumbing & Heating                |AK   |Plumbing                  |3.5   |3.248148148148148 |7.753705815279366  |\n",
      "|Wil Attwood Heating Systems                   |AK   |Plumbing                  |3.5   |3.248148148148148 |7.753705815279366  |\n",
      "|Hard Rok Plumbing & Heating                   |AK   |Plumbing                  |3.5   |3.248148148148148 |7.753705815279366  |\n",
      "|911 Plumbing and Heating Services             |AK   |Plumbing                  |1.0   |3.248148148148148 |-69.21322690992018 |\n",
      "|Slayden Plumbing & Heating                    |AK   |Plumbing                  |3.5   |3.248148148148148 |7.753705815279366  |\n",
      "|Heatsource Mechanical                         |AK   |Plumbing                  |2.5   |3.248148148148148 |-23.03306727480045 |\n",
      "|Alaska Goldstar Plumbing & Heating            |AK   |Plumbing                  |3.5   |3.248148148148148 |7.753705815279366  |\n",
      "|Kraft Heating                                 |AK   |Plumbing                  |5.0   |3.248148148148148 |53.9338654503991   |\n",
      "|Sani-Therm Plumbing & Heating                 |AK   |Plumbing                  |3.5   |3.248148148148148 |7.753705815279366  |\n",
      "|Alaska Best Plumbing & Heating                |AK   |Plumbing                  |3.0   |3.248148148148148 |-7.639680729760544 |\n",
      "|Pacific Plumbing Supply Company               |AK   |Plumbing                  |1.0   |3.248148148148148 |-69.21322690992018 |\n",
      "|Altrol Heating Cooling & Plumbing             |AK   |Plumbing                  |1.0   |3.248148148148148 |-69.21322690992018 |\n",
      "|Top Mechanical                                |AK   |Plumbing                  |3.0   |3.248148148148148 |-7.639680729760544 |\n",
      "|MPC Plumbing & Heating                        |AK   |Plumbing                  |2.5   |3.248148148148148 |-23.03306727480045 |\n",
      "|Susitna Mechanical                            |AK   |Plumbing                  |3.0   |3.248148148148148 |-7.639680729760544 |\n",
      "|Bigfoot Pumping & Thawing                     |AK   |Plumbing                  |2.5   |3.248148148148148 |-23.03306727480045 |\n",
      "|Advanced Plumbing & Heating                   |AK   |Plumbing                  |1.0   |3.248148148148148 |-69.21322690992018 |\n",
      "|Paragon Plumbing and Heating                  |AK   |Plumbing                  |3.0   |3.248148148148148 |-7.639680729760544 |\n",
      "|Southcentral Mechanical                       |AK   |Plumbing                  |4.5   |3.248148148148148 |38.54047890535918  |\n",
      "|Trickey James & April                         |AK   |Plumbing                  |3.0   |3.248148148148148 |-7.639680729760544 |\n",
      "|Alaska Goldstar Plumbing & Heating            |AK   |Plumbing                  |1.0   |3.248148148148148 |-69.21322690992018 |\n",
      "|Bud Hilton's Thawing Pumping & Backhoe Service|AK   |Plumbing                  |3.0   |3.248148148148148 |-7.639680729760544 |\n",
      "|Precision Services                            |AK   |Plumbing                  |5.0   |3.248148148148148 |53.9338654503991   |\n",
      "|Superior Mechanical                           |AK   |Plumbing                  |3.0   |3.248148148148148 |-7.639680729760544 |\n",
      "|Alaska Power-Vac                              |AK   |Air Conditioning & Heating|5.0   |3.4763513513513513|43.82896015549077  |\n",
      "|Portwine Plumbing & Heating                   |AK   |Plumbing                  |3.0   |3.248148148148148 |-7.639680729760544 |\n",
      "|All-Star Plumbing & Heating                   |AK   |Air Conditioning & Heating|3.0   |3.4763513513513513|-13.702623906705538|\n",
      "|Western Mechanical                            |AK   |Plumbing                  |3.0   |3.248148148148148 |-7.639680729760544 |\n",
      "|Refrigeration Unlimited - Alaska              |AK   |Air Conditioning & Heating|3.0   |3.4763513513513513|-13.702623906705538|\n",
      "|Northstate Mechanical                         |AK   |Plumbing                  |3.0   |3.248148148148148 |-7.639680729760544 |\n",
      "|Living Waters Plumbing and Mechanical         |AK   |Air Conditioning & Heating|3.0   |3.4763513513513513|-13.702623906705538|\n",
      "|Joshua Industries                             |AK   |Plumbing                  |3.0   |3.248148148148148 |-7.639680729760544 |\n",
      "|907 Heating & Plumbing                        |AK   |Air Conditioning & Heating|3.0   |3.4763513513513513|-13.702623906705538|\n",
      "|Northern Lights Services                      |AK   |Plumbing                  |3.0   |3.248148148148148 |-7.639680729760544 |\n",
      "|Industrial Boiler & Controls                  |AK   |Air Conditioning & Heating|3.0   |3.4763513513513513|-13.702623906705538|\n",
      "|Mechanical Contractors of Fairbanks           |AK   |Plumbing                  |3.0   |3.248148148148148 |-7.639680729760544 |\n",
      "|Statewide Refrigeration                       |AK   |Air Conditioning & Heating|3.0   |3.4763513513513513|-13.702623906705538|\n",
      "|Delbridge Bruce & Jaye                        |AK   |Plumbing                  |3.0   |3.248148148148148 |-7.639680729760544 |\n",
      "|Home Services at The Home Depot               |AK   |Air Conditioning & Heating|3.0   |3.4763513513513513|-13.702623906705538|\n",
      "|Northern Lights Heating & Cooling             |AK   |Plumbing                  |3.0   |3.248148148148148 |-7.639680729760544 |\n",
      "|Cool Air Mechanical                           |AK   |Air Conditioning & Heating|3.0   |3.4763513513513513|-13.702623906705538|\n",
      "|Homestead Pumping & Thawing                   |AK   |Plumbing                  |1.0   |3.248148148148148 |-69.21322690992018 |\n",
      "|Bowker Mechanical HVAC                        |AK   |Air Conditioning & Heating|5.0   |3.4763513513513513|43.82896015549077  |\n",
      "|Eayrs Plumbing & Heating                      |AK   |Plumbing                  |5.0   |3.248148148148148 |53.9338654503991   |\n",
      "|Home Services at The Home Depot               |AK   |Air Conditioning & Heating|5.0   |3.4763513513513513|43.82896015549077  |\n",
      "|Orca Specialties                              |AK   |Plumbing                  |5.0   |3.248148148148148 |53.9338654503991   |\n",
      "|Erwin Plumbing & Heating                      |AK   |Air Conditioning & Heating|5.0   |3.4763513513513513|43.82896015549077  |\n",
      "|Homer Septic Services                         |AK   |Plumbing                  |5.0   |3.248148148148148 |53.9338654503991   |\n",
      "|Bowker Mechanical HVAC                        |AK   |Air Conditioning & Heating|5.0   |3.4763513513513513|43.82896015549077  |\n",
      "|Quick Pumping                                 |AK   |Plumbing                  |5.0   |3.248148148148148 |53.9338654503991   |\n",
      "|Encore Mechanical Incorporated                |AK   |Air Conditioning & Heating|1.5   |3.4763513513513513|-56.85131195335277 |\n",
      "|The Plumbing & Heating                        |AK   |Plumbing                  |5.0   |3.248148148148148 |53.9338654503991   |\n",
      "|Valley MTN Services                           |AK   |Air Conditioning & Heating|5.0   |3.4763513513513513|43.82896015549077  |\n",
      "|All American Home Service                     |AK   |Plumbing                  |3.5   |3.248148148148148 |7.753705815279366  |\n",
      "+----------------------------------------------+-----+--------------------------+------+------------------+-------------------+\n",
      "only showing top 100 rows\n",
      "\n"
     ]
    }
   ],
   "source": [
    "#Average rating Per State's Category\n",
    "State_Category_Group = df.groupby(['State','Category']).avg('Rating').withColumnRenamed('avg(Rating)','Avg_Rating')\n",
    "\n",
    "Business = df.select(['Organization','Rating','State','Category'])\n",
    "\n",
    "#performance compared to Category average\n",
    "State_Category_Group.join(Business,['State','Category'],'inner')\\\n",
    "    .withColumn('Performance',((col('Rating')-col('Avg_Rating'))/(col('Avg_Rating')))*100)\\\n",
    "    .select(['Organization','State','Category','Rating',col('Avg_Rating').alias('State_Category_Avg'),'Performance'])\\\n",
    "    .sort('State',ascending=True)\\\n",
    "    .show(100,truncate=False)\n",
    "\n",
    "# Looks good need somemore work"
   ]
  },
  {
   "cell_type": "code",
   "execution_count": null,
   "id": "81248370",
   "metadata": {
    "papermill": {
     "duration": 0.026441,
     "end_time": "2025-07-14T19:00:39.588045",
     "exception": false,
     "start_time": "2025-07-14T19:00:39.561604",
     "status": "completed"
    },
    "tags": []
   },
   "outputs": [],
   "source": []
  }
 ],
 "metadata": {
  "kaggle": {
   "accelerator": "none",
   "dataSources": [
    {
     "datasetId": 1896904,
     "sourceId": 3106570,
     "sourceType": "datasetVersion"
    }
   ],
   "dockerImageVersionId": 31040,
   "isGpuEnabled": false,
   "isInternetEnabled": false,
   "language": "python",
   "sourceType": "notebook"
  },
  "kernelspec": {
   "display_name": "Python 3",
   "language": "python",
   "name": "python3"
  },
  "language_info": {
   "codemirror_mode": {
    "name": "ipython",
    "version": 3
   },
   "file_extension": ".py",
   "mimetype": "text/x-python",
   "name": "python",
   "nbconvert_exporter": "python",
   "pygments_lexer": "ipython3",
   "version": "3.11.11"
  },
  "papermill": {
   "default_parameters": {},
   "duration": 224.901627,
   "end_time": "2025-07-14T19:00:42.236006",
   "environment_variables": {},
   "exception": null,
   "input_path": "__notebook__.ipynb",
   "output_path": "__notebook__.ipynb",
   "parameters": {},
   "start_time": "2025-07-14T18:56:57.334379",
   "version": "2.6.0"
  }
 },
 "nbformat": 4,
 "nbformat_minor": 5
}
